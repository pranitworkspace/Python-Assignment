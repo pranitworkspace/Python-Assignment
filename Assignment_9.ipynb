{
 "cells": [
  {
   "cell_type": "markdown",
   "id": "30434232",
   "metadata": {},
   "source": [
    "1. To what does a relative path refer?\n",
    "2. What does an absolute path start with your operating system?\n",
    "3. What do the functions os.getcwd() and os.chdir() do?\n",
    "4. What are the . and .. folders?\n",
    "5. In C:\\bacon\\eggs\\spam.txt, which part is the dir name, and which part is the base name?\n",
    "6. What are the three “mode” arguments that can be passed to the open() function?\n",
    "7. What happens if an existing file is opened in write mode?\n",
    "8. How do you tell the difference between read() and readlines()?\n",
    "9. What data structure does a shelf value resemble?"
   ]
  },
  {
   "cell_type": "markdown",
   "id": "d1caedef",
   "metadata": {},
   "source": [
    "# Solution:-"
   ]
  },
  {
   "cell_type": "markdown",
   "id": "a714de34",
   "metadata": {},
   "source": [
    "1. To what does a relative path refer?\n",
    "\n",
    "A relative path can be the location of a file or directory relative with current working directory.\n",
    "\n",
    "2. What does an absolute path start with on your operating system?\n",
    "\n",
    "An absolute path on operating systems starts with the root directory.\n",
    "\n",
    "3. What do the functions os.getcwd() and os.chdir() do?\n",
    "\n",
    "os.getcwd(): The os.getcwd() function returns the current working directory.\n",
    "os.chdir(): The os.chdir() function is used for change the current working directory to the specified directory path.\n",
    "\n",
    "4. What are the . and .. folders?\n",
    "\n",
    "The \".\" (dot) folder represents the current directory.\n",
    "The \"..\" (double dot) folder represents the parent directory, i.e., the directory one level above the current directory.\n",
    "\n",
    "5. In C:\\bacon\\eggs\\spam.txt, which part is the dir name, and which part is the base name?\n",
    "\n",
    "The directory name (dir name) in the path C:\\bacon\\eggs\\spam.txt is \"C:\\bacon\\eggs\".\n",
    "The base name in the path is \"spam.txt\".\n",
    "\n",
    "6. What are the three \"mode\" arguments that can be passed to the open() function?\n",
    "\n",
    "\"r\": Read mode - opens the file for reading.\n",
    "\"w\": Write mode - opens the file for writing. \n",
    "\"a\": Append mode - opens the file for appending. \n",
    "\n",
    "7. What happens if an existing file is opened in write mode?\n",
    "\n",
    "If an existing file is opened in write mode (\"w\"), the file's contents are truncated, and the file is effectively cleared. \n",
    "\n",
    "8. How do you tell the difference between read() and readlines()?\n",
    "\n",
    "The read() method reads the entire contents of a file as a single string, including newline characters (\"\\n\") if present. \n",
    "\n",
    "The readlines() method reads all the lines of a file and returns them as a list of strings.\n",
    "\n",
    "9. What data structure does a shelf value resemble?\n",
    "\n",
    "A shelf value in Python resembles a dictionary. It is a persistent, disk-based storage option provided by the shelve module. "
   ]
  },
  {
   "cell_type": "code",
   "execution_count": null,
   "id": "28750873",
   "metadata": {},
   "outputs": [],
   "source": []
  },
  {
   "cell_type": "code",
   "execution_count": null,
   "id": "ef61509e",
   "metadata": {},
   "outputs": [],
   "source": []
  },
  {
   "cell_type": "code",
   "execution_count": null,
   "id": "61b2833a",
   "metadata": {},
   "outputs": [],
   "source": []
  },
  {
   "cell_type": "code",
   "execution_count": null,
   "id": "99fea2aa",
   "metadata": {},
   "outputs": [],
   "source": []
  },
  {
   "cell_type": "code",
   "execution_count": null,
   "id": "688def39",
   "metadata": {},
   "outputs": [],
   "source": []
  },
  {
   "cell_type": "code",
   "execution_count": null,
   "id": "ac6023b5",
   "metadata": {},
   "outputs": [],
   "source": []
  },
  {
   "cell_type": "code",
   "execution_count": null,
   "id": "d9ba409e",
   "metadata": {},
   "outputs": [],
   "source": []
  }
 ],
 "metadata": {
  "kernelspec": {
   "display_name": "Python 3 (ipykernel)",
   "language": "python",
   "name": "python3"
  },
  "language_info": {
   "codemirror_mode": {
    "name": "ipython",
    "version": 3
   },
   "file_extension": ".py",
   "mimetype": "text/x-python",
   "name": "python",
   "nbconvert_exporter": "python",
   "pygments_lexer": "ipython3",
   "version": "3.9.7"
  }
 },
 "nbformat": 4,
 "nbformat_minor": 5
}
