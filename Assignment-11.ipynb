{
 "cells": [
  {
   "cell_type": "markdown",
   "id": "dbedca01",
   "metadata": {},
   "source": [
    "1. Create an assert statement that throws an AssertionError if the variable spam is a negative integer.\n",
    "2. Write an assert statement that triggers an AssertionError if the variables eggs and bacon containstrings that are the same as each other, even if their cases are different (that is, &#39;hello&#39; and &#39;hello&#39; are considered the same, and &#39;goodbye&#39; and &#39;GOODbye&#39; are also considered the same).\n",
    "3. Create an assert statement that throws an AssertionError every time.\n",
    "4. What are the two lines that must be present in your software in order to call logging.debug()?\n",
    "5. What are the two lines that your program must have in order to have logging.debug() send alogging message to a file named programLog.txt?\n",
    "6. What are the five levels of logging?\n",
    "7. What line of code would you add to your software to disable all logging messages?\n",
    "8. Why is using logging messages better than using print() to display the same message?\n",
    "9. What are the differences between the Step Over, Step In, and Step Out buttons in the debugger?\n",
    "10. After you click Continue, when will the debugger stop ?\n",
    "11. What is the concept of a breakpoint?"
   ]
  },
  {
   "cell_type": "markdown",
   "id": "73cd26e2",
   "metadata": {},
   "source": [
    "# Solution:-"
   ]
  },
  {
   "cell_type": "markdown",
   "id": "7afae5e6",
   "metadata": {},
   "source": [
    "1. Create an assert statement that throws an AssertionError if the variable spam is a negative integer.\n",
    "```\n",
    "assert spam >= 0, \"spam cannot be a negative integer\"\n",
    "```\n",
    "\n",
    "2. Write an assert statement that triggers an AssertionError if the variables eggs and bacon contain strings that are the same as each other, even if their cases are different.\n",
    "```\n",
    "assert eggs.lower() != bacon.lower(), \"eggs and bacon cannot be the same\"\n",
    "```\n",
    "\n",
    "3. Create an assert statement that throws an AssertionError every time.\n",
    "```\n",
    "assert False, \"AssertionError triggered\"\n",
    "```\n",
    "\n",
    "4. What are the two lines that must be present in your software in order to call logging.debug()?\n",
    "```\n",
    "import logging\n",
    "logging.basicConfig(level=logging.DEBUG)\n",
    "```\n",
    "\n",
    "5. What are the two lines that your program must have in order to have logging.debug() send a logging message to a file named programLog.txt?\n",
    "```\n",
    "import logging\n",
    "logging.basicConfig(filename='programLog.txt', level=logging.DEBUG)\n",
    "```\n",
    "\n",
    "6. What are the five levels of logging?\n",
    "The five levels of logging, in increasing order of severity, are:\n",
    "- DEBUG\n",
    "- INFO\n",
    "- WARNING\n",
    "- ERROR\n",
    "- CRITICAL\n",
    "\n",
    "7. What line of code would you add to your software to disable all logging messages?\n",
    "```\n",
    "logging.disable(logging.CRITICAL)\n",
    "```\n",
    "\n",
    "8. Why is using logging messages better than using print() to display the same message?\n",
    "Using logging messages provides several advantages over using print():\n",
    "- Logging messages can be easily controlled by setting the logging level, allowing you to selectively enable or disable specific levels of messages.\n",
    "- Logging messages can be directed to different outputs, such as the console, a file, or a network stream, without modifying the code.\n",
    "- Logging messages can include valuable metadata, such as timestamps and log levels, for better debugging and analysis.\n",
    "- Logging messages can be easily formatted and customized to provide more detailed information.\n",
    "\n",
    "9. What are the differences between the Step Over, Step In, and Step Out buttons in the debugger?\n",
    "- Step Over: When clicked, the debugger will execute the current line and move to the next line in the code. If there is a function call on the current line, it will execute the entire function without diving into its implementation.\n",
    "- Step In: When clicked, the debugger will enter into the next line of code, even if it is inside a function call. If there is a function call on the current line, it will move to the first line of the called function.\n",
    "- Step Out: When clicked, the debugger will execute the remaining lines of the current function and return to the line that called the function. It allows you to quickly step out of the current function and continue debugging in the calling context.\n",
    "\n",
    "10. After you click Continue, when will the debugger stop?\n",
    "The debugger will continue executing the code without interruption until it reaches the end of the program or encounters another breakpoint or an exception.\n",
    "\n",
    "11. What is the concept of a breakpoint?\n",
    "A breakpoint is a specified point in the code where the debugger pauses the execution to allow inspection of variables, step through the code, or perform other debugging actions. It is a useful tool for controlling the flow of execution and analyzing the state of the program at specific locations."
   ]
  },
  {
   "cell_type": "code",
   "execution_count": null,
   "id": "6170ccc5",
   "metadata": {},
   "outputs": [],
   "source": []
  },
  {
   "cell_type": "code",
   "execution_count": null,
   "id": "21510356",
   "metadata": {},
   "outputs": [],
   "source": []
  },
  {
   "cell_type": "code",
   "execution_count": null,
   "id": "3dda897a",
   "metadata": {},
   "outputs": [],
   "source": []
  }
 ],
 "metadata": {
  "kernelspec": {
   "display_name": "Python 3 (ipykernel)",
   "language": "python",
   "name": "python3"
  },
  "language_info": {
   "codemirror_mode": {
    "name": "ipython",
    "version": 3
   },
   "file_extension": ".py",
   "mimetype": "text/x-python",
   "name": "python",
   "nbconvert_exporter": "python",
   "pygments_lexer": "ipython3",
   "version": "3.9.7"
  }
 },
 "nbformat": 4,
 "nbformat_minor": 5
}
