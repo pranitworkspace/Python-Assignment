{
 "cells": [
  {
   "cell_type": "markdown",
   "id": "bde781e0",
   "metadata": {},
   "source": [
    "Q1. What is the purpose of Python&#39;s OOP?\n",
    "\n",
    "Q2. Where does an inheritance search look for an attribute?\n",
    "\n",
    "Q3. How do you distinguish between a class object and an instance object?\n",
    "\n",
    "Q4. What makes the first argument in a class’s method function special?\n",
    "\n",
    "Q5. What is the purpose of the __init__ method?\n",
    "\n",
    "Q6. What is the process for creating a class instance?\n",
    "\n",
    "Q7. What is the process for creating a class?\n",
    "\n",
    "Q8. How would you define the superclasses of a class?"
   ]
  },
  {
   "cell_type": "markdown",
   "id": "0b83f678",
   "metadata": {},
   "source": [
    "# Solution:-"
   ]
  },
  {
   "cell_type": "markdown",
   "id": "b37f0ca4",
   "metadata": {},
   "source": [
    "1. What is the purpose of Python's OOP?\n",
    "\n",
    "The purpose of Python's Object-Oriented Programming (OOP) is to organize code into reusable and modular structures called classes. OOP provides a way to represent real-world objects and their interactions in code, making it easier to manage complex programs, promote code reusability, and enhance code maintainability.\n",
    "\n",
    "2. Where does an inheritance search look for an attribute?\n",
    "\n",
    "Inheritance search in Python looks for an attribute in the following order:\n",
    "The instance itself (if it's an instance attribute).\n",
    "The class where the instance belongs (if it's a class attribute).\n",
    "The parent classes (superclasses) in the order they are defined, following the Method Resolution Order (MRO).\n",
    "\n",
    "3. How do you distinguish between a class object and an instance object?\n",
    "\n",
    "A class object represents the class itself and is used to create instances of that class. It is created when the class is defined and can be accessed using the class name.\n",
    "An instance object, on the other hand, is a specific occurrence or instantiation of a class. It is created by calling the class as if it were a function and represents a unique object with its own set of attributes and methods.\n",
    "\n",
    "4. What makes the first argument in a class’s method function special?\n",
    "\n",
    "The first argument in a class's method function, conventionally named self, refers to the instance object on which the method is called. It allows the method to access and manipulate the instance's attributes and methods. It is automatically passed when a method is called on an instance, providing a way to refer to the instance within the method.\n",
    "\n",
    "5. What is the purpose of the init method?\n",
    "\n",
    "The __init__ method is a special method in Python classes that is automatically called when a new instance of the class is created. It is used to initialize the attributes of the instance and perform any necessary setup or configuration. The __init__ method allows you to define the initial state of an object.\n",
    "\n",
    "6. What is the process for creating a class instance?\n",
    "\n",
    "To create a class instance in Python, you need to call the class as if it were a function, providing any required arguments. This creates a new instance of the class, which can then be assigned to a variable for further use."
   ]
  },
  {
   "cell_type": "code",
   "execution_count": 3,
   "id": "f8874906",
   "metadata": {},
   "outputs": [],
   "source": [
    "class MyClass:\n",
    "    def __init__(self, arg1, arg2):\n",
    "        # Initialize attributes here\n",
    "        instance = MyClass(arg1_value, arg2_value)"
   ]
  },
  {
   "cell_type": "markdown",
   "id": "e570f45c",
   "metadata": {},
   "source": [
    "Q7. What is the process for creating a class?\n",
    "\n",
    "To create a class in Python, you define it using the class keyword, followed by the class name. Inside the class, you can define attributes (variables) and methods (functions) that describe the behavior and characteristics of objects created from the class."
   ]
  },
  {
   "cell_type": "markdown",
   "id": "efcf5458",
   "metadata": {},
   "source": [
    "Q8. How would you define the superclasses of a class?\n",
    "\n",
    "To define the superclasses (parent classes) of a class in Python, you include them inside parentheses after the class name when defining the class. Multiple superclasses can be specified by separating them with commas. "
   ]
  },
  {
   "cell_type": "code",
   "execution_count": null,
   "id": "3d86ca90",
   "metadata": {},
   "outputs": [],
   "source": []
  },
  {
   "cell_type": "code",
   "execution_count": null,
   "id": "5ae9db9b",
   "metadata": {},
   "outputs": [],
   "source": []
  },
  {
   "cell_type": "code",
   "execution_count": null,
   "id": "ac166ab3",
   "metadata": {},
   "outputs": [],
   "source": []
  },
  {
   "cell_type": "code",
   "execution_count": null,
   "id": "92e63934",
   "metadata": {},
   "outputs": [],
   "source": []
  },
  {
   "cell_type": "code",
   "execution_count": null,
   "id": "d2b28acf",
   "metadata": {},
   "outputs": [],
   "source": []
  },
  {
   "cell_type": "code",
   "execution_count": null,
   "id": "85af523f",
   "metadata": {},
   "outputs": [],
   "source": []
  },
  {
   "cell_type": "code",
   "execution_count": null,
   "id": "0b0c81f7",
   "metadata": {},
   "outputs": [],
   "source": []
  },
  {
   "cell_type": "code",
   "execution_count": null,
   "id": "67f852a6",
   "metadata": {},
   "outputs": [],
   "source": []
  },
  {
   "cell_type": "code",
   "execution_count": null,
   "id": "b29e3f2a",
   "metadata": {},
   "outputs": [],
   "source": []
  },
  {
   "cell_type": "code",
   "execution_count": null,
   "id": "7d99285e",
   "metadata": {},
   "outputs": [],
   "source": []
  },
  {
   "cell_type": "code",
   "execution_count": null,
   "id": "2ce9d63f",
   "metadata": {},
   "outputs": [],
   "source": []
  },
  {
   "cell_type": "code",
   "execution_count": null,
   "id": "15185b8e",
   "metadata": {},
   "outputs": [],
   "source": []
  },
  {
   "cell_type": "code",
   "execution_count": null,
   "id": "0f30ae99",
   "metadata": {},
   "outputs": [],
   "source": []
  },
  {
   "cell_type": "code",
   "execution_count": null,
   "id": "5e7d3d03",
   "metadata": {},
   "outputs": [],
   "source": []
  },
  {
   "cell_type": "code",
   "execution_count": null,
   "id": "2be0463a",
   "metadata": {},
   "outputs": [],
   "source": []
  },
  {
   "cell_type": "code",
   "execution_count": null,
   "id": "7e607fa1",
   "metadata": {},
   "outputs": [],
   "source": []
  },
  {
   "cell_type": "code",
   "execution_count": null,
   "id": "abb3237f",
   "metadata": {},
   "outputs": [],
   "source": []
  },
  {
   "cell_type": "code",
   "execution_count": null,
   "id": "6dc068a1",
   "metadata": {},
   "outputs": [],
   "source": []
  }
 ],
 "metadata": {
  "kernelspec": {
   "display_name": "Python 3 (ipykernel)",
   "language": "python",
   "name": "python3"
  },
  "language_info": {
   "codemirror_mode": {
    "name": "ipython",
    "version": 3
   },
   "file_extension": ".py",
   "mimetype": "text/x-python",
   "name": "python",
   "nbconvert_exporter": "python",
   "pygments_lexer": "ipython3",
   "version": "3.9.7"
  }
 },
 "nbformat": 4,
 "nbformat_minor": 5
}
