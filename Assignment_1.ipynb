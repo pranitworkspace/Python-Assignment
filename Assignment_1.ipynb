{
 "cells": [
  {
   "cell_type": "code",
   "execution_count": null,
   "id": "d25a6f91",
   "metadata": {},
   "outputs": [],
   "source": [
    "1. In the below elements which of them are values or an expression? eg:- values can be integer or string and expressions will be mathematical operators.\n",
    "* \n",
    "'hello'\n",
    "-87.8\n",
    "- \n",
    "/ \n",
    "+\t\n",
    "6 \n",
    "\n",
    "2. What is the difference between string and variable?\n",
    "\n",
    "3. Describe three different data types.\n",
    "\n",
    "4. What is an expression made up of? What do all expressions do?\n",
    "5. This assignment statements, like spam = 10. What is the difference between an expression and a statement?\n",
    "6. After running the following code, what does the variable bacon contain?\n",
    "bacon = 22\n",
    "bacon + 1\n",
    "\n",
    "7. What should the values of the following two terms be?\n",
    "'spam' + 'spamspam'\n",
    "'spam' * 3\n",
    "\n",
    "8. Why is eggs a valid variable name while 100 is invalid?\n",
    "9. What three functions can be used to get the integer, floating-point number, or string\n",
    "version of a value?\n",
    "10. Why does this expression cause an error? How can you fix it?\n",
    "&#39;I have eaten &#39; + 99 + &#39; burritos.&#39;"
   ]
  },
  {
   "cell_type": "markdown",
   "id": "6acdff82",
   "metadata": {},
   "source": [
    "# Solutions:-"
   ]
  },
  {
   "cell_type": "markdown",
   "id": "8652829e",
   "metadata": {},
   "source": [
    "1. In the below elements which of them are values or an expression? eg:- values can be integer or string and expressions will be mathematical operators."
   ]
  },
  {
   "cell_type": "markdown",
   "id": "de9cb91f",
   "metadata": {},
   "source": [
    "*= Multiplication Operator"
   ]
  },
  {
   "cell_type": "markdown",
   "id": "b610dab7",
   "metadata": {},
   "source": [
    "'hello' = String"
   ]
  },
  {
   "cell_type": "markdown",
   "id": "0b755b9f",
   "metadata": {},
   "source": [
    "-87.8 = Float"
   ]
  },
  {
   "cell_type": "markdown",
   "id": "e624279c",
   "metadata": {},
   "source": [
    "-= Subtraction Operator"
   ]
  },
  {
   "cell_type": "markdown",
   "id": "6a38e20e",
   "metadata": {},
   "source": [
    "/ = Division Operator"
   ]
  },
  {
   "cell_type": "markdown",
   "id": "b811ee97",
   "metadata": {},
   "source": [
    "+= Addtion Operator"
   ]
  },
  {
   "cell_type": "markdown",
   "id": "4c0232f2",
   "metadata": {},
   "source": [
    "6 = Integer"
   ]
  },
  {
   "cell_type": "markdown",
   "id": "bc5c3454",
   "metadata": {},
   "source": [
    "2. What is the difference between string and variable?"
   ]
  },
  {
   "cell_type": "markdown",
   "id": "1b244a3a",
   "metadata": {},
   "source": [
    "String can be defined as sequence of characters which can be numbers,letters.\n",
    "Variable can be defined as container that stores a value, reference to an object in memory."
   ]
  },
  {
   "cell_type": "markdown",
   "id": "e0feac93",
   "metadata": {},
   "source": [
    "3. Describe three different data types."
   ]
  },
  {
   "cell_type": "markdown",
   "id": "63dd9809",
   "metadata": {},
   "source": [
    "Integer- For example, 42, -10, and 0 are integers. Integers are typically used to represent counts, indices, or numerical values.An integer is a whole number, either positive or negative.\n",
    "\n",
    "String- For example, \"Hello, world!\" and '12345' are strings.A string is a sequence of characters, such as letters, numbers, and symbols. \n",
    "\n",
    "Boolean-For example, x = True defines a variable named x that stores the Boolean value True, A Boolean value is a logical data type that represents either true or false."
   ]
  },
  {
   "cell_type": "markdown",
   "id": "e5162456",
   "metadata": {},
   "source": [
    "4. What is an expression made up of? What do all expressions do?"
   ]
  },
  {
   "cell_type": "markdown",
   "id": "2a3ace01",
   "metadata": {},
   "source": [
    "An expression is a combination of values, operators, and function calls that are evaluated to produce a result.\n",
    "Expressions are used in programming to perform calculations, make decisions, manipulate data.\n",
    "All expressions have a value and a data type, which are determined by the components of the expression"
   ]
  },
  {
   "cell_type": "markdown",
   "id": "1fd75471",
   "metadata": {},
   "source": [
    "5. This assignment statements, like spam = 10. What is the difference between an expression and a statement?"
   ]
  },
  {
   "cell_type": "markdown",
   "id": "eb74b7bf",
   "metadata": {},
   "source": [
    "An assignment statement, such as spam = 10, is an example of a statement. This statement assigns the value 10 to a variable named spam. In summary, the main difference between an expression and a statement is that an expression produces a value, while a statement performs a specific task or modifies the state of the program."
   ]
  },
  {
   "cell_type": "markdown",
   "id": "255bf646",
   "metadata": {},
   "source": [
    "6. After running the following code, what does the variable bacon contain?\n"
   ]
  },
  {
   "cell_type": "markdown",
   "id": "ca638e36",
   "metadata": {},
   "source": [
    "bacon = 22"
   ]
  },
  {
   "cell_type": "markdown",
   "id": "d20aedb6",
   "metadata": {},
   "source": [
    "bacon + 1"
   ]
  },
  {
   "cell_type": "markdown",
   "id": "3222c839",
   "metadata": {},
   "source": [
    "bacon = 23"
   ]
  },
  {
   "cell_type": "markdown",
   "id": "7ddb36ad",
   "metadata": {},
   "source": [
    "7. What should the values of the following two terms be?\n"
   ]
  },
  {
   "cell_type": "markdown",
   "id": "49ccf4cd",
   "metadata": {},
   "source": [
    "'spam' + 'spamspam' = 'spamspamspam'"
   ]
  },
  {
   "cell_type": "markdown",
   "id": "b4f5add6",
   "metadata": {},
   "source": [
    "'spam' * 3 = 'spamspamspam'"
   ]
  },
  {
   "cell_type": "markdown",
   "id": "c8b2cc9c",
   "metadata": {},
   "source": [
    "8. Why is eggs a valid variable name while 100 is invalid?"
   ]
  },
  {
   "cell_type": "markdown",
   "id": "dc1b2e47",
   "metadata": {},
   "source": [
    "Based on these rules, eggs is a valid variable name because it starts with a letter and only contains letters.100 is not a valid variable name because it starts with a number. Variable names in Python cannot start with a number."
   ]
  },
  {
   "cell_type": "markdown",
   "id": "2b8c2fc1",
   "metadata": {},
   "source": [
    "9. What three functions can be used to get the integer, floating-point number, or string\n",
    "version of a value?"
   ]
  },
  {
   "cell_type": "markdown",
   "id": "b5a3dab5",
   "metadata": {},
   "source": [
    "1. int()\n",
    "2. float()\n",
    "3. str()"
   ]
  },
  {
   "cell_type": "markdown",
   "id": "f9c5480d",
   "metadata": {},
   "source": [
    "10. Why does this expression cause an error? How can you fix it?\n",
    "&#39;I have eaten &#39; + 99 + &#39; burritos.&#39;"
   ]
  },
  {
   "cell_type": "markdown",
   "id": "8999d47e",
   "metadata": {},
   "source": [
    "'I have eaten ' + 99 + ' burritos.' will cause a TypeError because it is trying to concatenate a string ('I have eaten ') with an integer (99)."
   ]
  },
  {
   "cell_type": "code",
   "execution_count": null,
   "id": "359dcf8a",
   "metadata": {},
   "outputs": [],
   "source": []
  }
 ],
 "metadata": {
  "kernelspec": {
   "display_name": "Python 3 (ipykernel)",
   "language": "python",
   "name": "python3"
  },
  "language_info": {
   "codemirror_mode": {
    "name": "ipython",
    "version": 3
   },
   "file_extension": ".py",
   "mimetype": "text/x-python",
   "name": "python",
   "nbconvert_exporter": "python",
   "pygments_lexer": "ipython3",
   "version": "3.9.7"
  }
 },
 "nbformat": 4,
 "nbformat_minor": 5
}
