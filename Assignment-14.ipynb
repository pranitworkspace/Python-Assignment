{
 "cells": [
  {
   "cell_type": "markdown",
   "id": "16e87c2e",
   "metadata": {},
   "source": [
    "1. What does RGBA stand for?\n",
    "- RGBA stands for Red Green Blue Alpha. It is a color model that represents colors using combinations of red, green, and blue channels, along with an additional alpha channel for transparency.\n",
    "\n",
    "2. From the Pillow module, how do you get the RGBA value of any images?\n",
    "- To get the RGBA value of an image using the Pillow module in Python, you can use the `getpixel()` method. For example:\n",
    "  ```python\n",
    "  from PIL import Image\n",
    "\n",
    "  image = Image.open('image.jpg')\n",
    "  rgba_value = image.getpixel((x, y))\n",
    "  ```\n",
    "\n",
    "3. What is a box tuple, and how does it work?\n",
    "- In Pillow, a box tuple represents a rectangular region within an image. It is defined as a tuple of four values: (left, upper, right, lower). The left and upper values specify the coordinates of the top-left corner of the box, and the right and lower values specify the coordinates of the bottom-right corner of the box.\n",
    "\n",
    "4. Use your image and load it in a notebook. How can you find out the width and height of an Image object?\n",
    "- To find out the width and height of an Image object in Pillow, you can use the `size` attribute. For example:\n",
    "  ```python\n",
    "  from PIL import Image\n",
    "\n",
    "  image = Image.open('image.jpg')\n",
    "  width, height = image.size\n",
    "  ```\n",
    "\n",
    "5. What method would you call to get an Image object for a 100×100 image, excluding the lower-left quarter of it?\n",
    "- To get an Image object for a 100x100 image excluding the lower-left quarter, you can use the `crop()` method. For example:\n",
    "  ```python\n",
    "  from PIL import Image\n",
    "\n",
    "  image = Image.open('image.jpg')\n",
    "  cropped_image = image.crop((0, 0, 50, 50))\n",
    "  ```\n",
    "\n",
    "6. After making changes to an Image object, how could you save it as an image file?\n",
    "- To save an Image object as an image file after making changes, you can use the `save()` method. Specify the filename and file format as the arguments. For example:\n",
    "  ```python\n",
    "  image.save('modified_image.jpg')\n",
    "  ```\n",
    "\n",
    "7. What module contains Pillow's shape-drawing code?\n",
    "- The module that contains Pillow's shape-drawing code is the `ImageDraw` module.\n",
    "\n",
    "8. Image objects do not have drawing methods. What kind of object does? How do you get this kind of object?\n",
    "- The `ImageDraw` object has drawing methods for drawing shapes and text on an image. To get an `ImageDraw` object, you need to import the `ImageDraw` module and create an instance of the `ImageDraw.Draw` class. For example:\n",
    "  ```python\n",
    "  from PIL import Image, ImageDraw\n",
    "\n",
    "  image = Image.new('RGB', (200, 200), (255, 255, 255))\n",
    "  draw = ImageDraw.Draw(image)\n",
    "  ```"
   ]
  },
  {
   "cell_type": "code",
   "execution_count": null,
   "id": "4a1af3e7",
   "metadata": {},
   "outputs": [],
   "source": []
  },
  {
   "cell_type": "code",
   "execution_count": null,
   "id": "0bf6cf09",
   "metadata": {},
   "outputs": [],
   "source": []
  },
  {
   "cell_type": "code",
   "execution_count": null,
   "id": "314b60c6",
   "metadata": {},
   "outputs": [],
   "source": []
  },
  {
   "cell_type": "code",
   "execution_count": null,
   "id": "70e07ea7",
   "metadata": {},
   "outputs": [],
   "source": []
  },
  {
   "cell_type": "code",
   "execution_count": null,
   "id": "cebdf8ae",
   "metadata": {},
   "outputs": [],
   "source": []
  },
  {
   "cell_type": "code",
   "execution_count": null,
   "id": "71b51321",
   "metadata": {},
   "outputs": [],
   "source": []
  },
  {
   "cell_type": "code",
   "execution_count": null,
   "id": "5f1e00f6",
   "metadata": {},
   "outputs": [],
   "source": []
  },
  {
   "cell_type": "code",
   "execution_count": null,
   "id": "ae535586",
   "metadata": {},
   "outputs": [],
   "source": []
  },
  {
   "cell_type": "code",
   "execution_count": null,
   "id": "a26d13fd",
   "metadata": {},
   "outputs": [],
   "source": []
  },
  {
   "cell_type": "code",
   "execution_count": null,
   "id": "55c11d20",
   "metadata": {},
   "outputs": [],
   "source": []
  },
  {
   "cell_type": "code",
   "execution_count": null,
   "id": "5d13950c",
   "metadata": {},
   "outputs": [],
   "source": []
  },
  {
   "cell_type": "code",
   "execution_count": null,
   "id": "fc859241",
   "metadata": {},
   "outputs": [],
   "source": []
  }
 ],
 "metadata": {
  "kernelspec": {
   "display_name": "Python 3 (ipykernel)",
   "language": "python",
   "name": "python3"
  },
  "language_info": {
   "codemirror_mode": {
    "name": "ipython",
    "version": 3
   },
   "file_extension": ".py",
   "mimetype": "text/x-python",
   "name": "python",
   "nbconvert_exporter": "python",
   "pygments_lexer": "ipython3",
   "version": "3.9.7"
  }
 },
 "nbformat": 4,
 "nbformat_minor": 5
}
