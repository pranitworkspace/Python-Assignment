{
 "cells": [
  {
   "cell_type": "markdown",
   "id": "b759103b",
   "metadata": {},
   "source": [
    "1. What are the new features added in Python 3.8 version?\n",
    "2. What is monkey patching in Python?\n",
    "3. What is the difference between a shallow copy and deep copy?\n",
    "4. What is the maximum possible length of an identifier?\n",
    "5. What is generator comprehension?"
   ]
  },
  {
   "cell_type": "markdown",
   "id": "3cd35b75",
   "metadata": {},
   "source": [
    "# Solution:-"
   ]
  },
  {
   "cell_type": "markdown",
   "id": "f856e807",
   "metadata": {},
   "source": [
    "1. What are the new features added in Python 3.8 version?\n",
    "\n",
    "Some of the new features added in Python 3.8 include:\n",
    "Assignment expressions (the walrus operator :=)\n",
    "Positional-only parameters in function definitions\n",
    "The math.prod() function\n",
    "The f-strings syntax now supports the = specifier\n",
    "The syntax warning added to raise warnings as errors\n",
    "The typing.final decorator to indicate that a class or function is not intended to be subclassed or overridden\n",
    "The improved syntax for type hints\n",
    "\n",
    "2. What is monkey patching in Python?\n",
    "\n",
    "Monkey patching refers to the practice of modifying or extending existing code or modules at runtime, typically by adding, modifying, or replacing methods or attributes. It allows you to dynamically modify the behavior of objects or modules without changing their original source code.\n",
    "\n",
    "3. What is the difference between a shallow copy and deep copy?\n",
    "\n",
    "A shallow copy creates a new object that references the original elements. If the elements are mutable objects, any changes made to them will be reflected in both the original and the copied object. In contrast, a deep copy creates a new object and recursively copies all the elements, including any nested objects. Changes made to the original or the copied object do not affect each other.\n",
    "\n",
    "4. What is the maximum possible length of an identifier?\n",
    "\n",
    "In Python, the maximum possible length of an identifier is implementation-dependent. However, the current implementation supports identifiers of up to 255 characters.\n",
    "\n",
    "5. What is generator comprehension?\n",
    "\n",
    "Generator comprehension is a concise way to create a generator object in Python. It follows a similar syntax to list comprehension but uses parentheses instead of square brackets. Generator comprehensions allow you to generate elements on-the-fly, saving memory as they generate values one at a time, rather than creating the entire sequence at once."
   ]
  },
  {
   "cell_type": "code",
   "execution_count": null,
   "id": "8a7b323f",
   "metadata": {},
   "outputs": [],
   "source": []
  },
  {
   "cell_type": "code",
   "execution_count": null,
   "id": "8d34e781",
   "metadata": {},
   "outputs": [],
   "source": []
  },
  {
   "cell_type": "code",
   "execution_count": null,
   "id": "1145b3a0",
   "metadata": {},
   "outputs": [],
   "source": []
  },
  {
   "cell_type": "code",
   "execution_count": null,
   "id": "83bc8c05",
   "metadata": {},
   "outputs": [],
   "source": []
  },
  {
   "cell_type": "code",
   "execution_count": null,
   "id": "0d3fda0e",
   "metadata": {},
   "outputs": [],
   "source": []
  },
  {
   "cell_type": "code",
   "execution_count": null,
   "id": "a22e9bb2",
   "metadata": {},
   "outputs": [],
   "source": []
  },
  {
   "cell_type": "code",
   "execution_count": null,
   "id": "8c327f7e",
   "metadata": {},
   "outputs": [],
   "source": []
  },
  {
   "cell_type": "code",
   "execution_count": null,
   "id": "b15da226",
   "metadata": {},
   "outputs": [],
   "source": []
  },
  {
   "cell_type": "code",
   "execution_count": null,
   "id": "de7b0b34",
   "metadata": {},
   "outputs": [],
   "source": []
  },
  {
   "cell_type": "code",
   "execution_count": null,
   "id": "30761080",
   "metadata": {},
   "outputs": [],
   "source": []
  },
  {
   "cell_type": "code",
   "execution_count": null,
   "id": "c7bb63e6",
   "metadata": {},
   "outputs": [],
   "source": []
  },
  {
   "cell_type": "code",
   "execution_count": null,
   "id": "c3aa144b",
   "metadata": {},
   "outputs": [],
   "source": []
  },
  {
   "cell_type": "code",
   "execution_count": null,
   "id": "a6ac68f4",
   "metadata": {},
   "outputs": [],
   "source": []
  }
 ],
 "metadata": {
  "kernelspec": {
   "display_name": "Python 3 (ipykernel)",
   "language": "python",
   "name": "python3"
  },
  "language_info": {
   "codemirror_mode": {
    "name": "ipython",
    "version": 3
   },
   "file_extension": ".py",
   "mimetype": "text/x-python",
   "name": "python",
   "nbconvert_exporter": "python",
   "pygments_lexer": "ipython3",
   "version": "3.9.7"
  }
 },
 "nbformat": 4,
 "nbformat_minor": 5
}
