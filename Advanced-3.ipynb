{
 "cells": [
  {
   "cell_type": "markdown",
   "id": "dcef5c1b",
   "metadata": {},
   "source": [
    "1. What is the concept of an abstract superclass?\n",
    "\n",
    "2. What happens when a class statement&#39;s top level contains a basic assignment statement?\n",
    "\n",
    "3. Why does a class need to manually call a superclass&#39;s __init__ method?\n",
    "\n",
    "4. How can you augment, instead of completely replacing, an inherited method?\n",
    "\n",
    "5. How is the local scope of a class different from that of a function?"
   ]
  },
  {
   "cell_type": "markdown",
   "id": "e7d27e71",
   "metadata": {},
   "source": [
    "# Solution:-"
   ]
  },
  {
   "cell_type": "markdown",
   "id": "1b9c9e25",
   "metadata": {},
   "source": [
    "1. What is the concept of an abstract superclass?\n",
    "\n",
    "An abstract superclass is a class that is designed to be inherited by other classes but cannot be instantiated itself. It serves as a blueprint or template for its subclasses and defines common attributes and behaviors that the subclasses inherit. An abstract superclass typically contains one or more abstract methods, which are meant to be overridden by its subclasses.\n",
    "\n",
    "2. What happens when a class statement's top level contains a basic assignment statement?\n",
    "\n",
    "When a class statement's top level contains a basic assignment statement, it creates a class attribute. The assignment statement assigns a value to the attribute, which can be accessed and modified by instances of the class. Class attributes are shared by all instances of the class and can also be accessed using the class name itself.\n",
    "\n",
    "3. Why does a class need to manually call a superclass's init method?\n",
    "\n",
    "A class needs to manually call a superclass's __init__ method in order to initialize the inherited attributes and behaviors defined by the superclass. By calling the superclass's __init__ method, the subclass ensures that the superclass's initialization code is executed before its own initialization code. This allows the subclass to inherit and extend the behavior of the superclass.\n",
    "\n",
    "4. How can you augment, instead of completely replacing, an inherited method?\n",
    "\n",
    "To augment an inherited method instead of completely replacing it, you can override the method in the subclass and call the superclass's version of the method using the super() function. This allows you to add additional functionality to the method while still retaining the behavior defined in the superclass. By calling super().method_name(), the subclass can invoke the superclass's method and then add its own modifications or extensions.\n",
    "\n",
    "5. How is the local scope of a class different from that of a function?\n",
    "\n",
    "The local scope of a class refers to the namespace within the class definition. It contains class attributes and methods, which can be accessed and modified by instances of the class. The local scope of a class is persistent throughout the lifetime of the class and is shared by all instances of the class.\n",
    "On the other hand, the local scope of a function refers to the namespace within the function definition. It contains local variables and parameters, which are created when the function is called and destroyed when the function finishes executing. The local scope of a function is temporary and exists only during the execution of the function."
   ]
  },
  {
   "cell_type": "code",
   "execution_count": null,
   "id": "6abf8a64",
   "metadata": {},
   "outputs": [],
   "source": []
  },
  {
   "cell_type": "code",
   "execution_count": null,
   "id": "f0f830f3",
   "metadata": {},
   "outputs": [],
   "source": []
  },
  {
   "cell_type": "code",
   "execution_count": null,
   "id": "eebef1d4",
   "metadata": {},
   "outputs": [],
   "source": []
  },
  {
   "cell_type": "code",
   "execution_count": null,
   "id": "de302d07",
   "metadata": {},
   "outputs": [],
   "source": []
  },
  {
   "cell_type": "code",
   "execution_count": null,
   "id": "1c895537",
   "metadata": {},
   "outputs": [],
   "source": []
  },
  {
   "cell_type": "code",
   "execution_count": null,
   "id": "50bb473f",
   "metadata": {},
   "outputs": [],
   "source": []
  },
  {
   "cell_type": "code",
   "execution_count": null,
   "id": "85d8848d",
   "metadata": {},
   "outputs": [],
   "source": []
  },
  {
   "cell_type": "code",
   "execution_count": null,
   "id": "5d2ea18f",
   "metadata": {},
   "outputs": [],
   "source": []
  },
  {
   "cell_type": "code",
   "execution_count": null,
   "id": "ea8cb765",
   "metadata": {},
   "outputs": [],
   "source": []
  },
  {
   "cell_type": "code",
   "execution_count": null,
   "id": "660f6a04",
   "metadata": {},
   "outputs": [],
   "source": []
  },
  {
   "cell_type": "code",
   "execution_count": null,
   "id": "6c22ca08",
   "metadata": {},
   "outputs": [],
   "source": []
  },
  {
   "cell_type": "code",
   "execution_count": null,
   "id": "c993ab36",
   "metadata": {},
   "outputs": [],
   "source": []
  },
  {
   "cell_type": "code",
   "execution_count": null,
   "id": "ccc58a74",
   "metadata": {},
   "outputs": [],
   "source": []
  },
  {
   "cell_type": "code",
   "execution_count": null,
   "id": "847c0c99",
   "metadata": {},
   "outputs": [],
   "source": []
  },
  {
   "cell_type": "code",
   "execution_count": null,
   "id": "cb370d0b",
   "metadata": {},
   "outputs": [],
   "source": []
  },
  {
   "cell_type": "code",
   "execution_count": null,
   "id": "5773fa8d",
   "metadata": {},
   "outputs": [],
   "source": []
  }
 ],
 "metadata": {
  "kernelspec": {
   "display_name": "Python 3 (ipykernel)",
   "language": "python",
   "name": "python3"
  },
  "language_info": {
   "codemirror_mode": {
    "name": "ipython",
    "version": 3
   },
   "file_extension": ".py",
   "mimetype": "text/x-python",
   "name": "python",
   "nbconvert_exporter": "python",
   "pygments_lexer": "ipython3",
   "version": "3.9.7"
  }
 },
 "nbformat": 4,
 "nbformat_minor": 5
}
