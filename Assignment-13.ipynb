{
 "cells": [
  {
   "cell_type": "markdown",
   "id": "9a0c9873",
   "metadata": {},
   "source": [
    "1. What advantages do Excel spreadsheets have over CSV spreadsheets?\n",
    "- Excel spreadsheets have several advantages over CSV spreadsheets:\n",
    "  - Excel spreadsheets can contain multiple sheets, allowing for organization and categorization of data.\n",
    "  - Excel supports various formatting options, such as cell formatting, colors, and formulas.\n",
    "  - Excel allows for more complex data manipulation and analysis using built-in functions and features.\n",
    "  - Excel provides a graphical user interface (GUI) for easy viewing and editing of data.\n",
    "\n",
    "2. What do you pass to csv.reader() and csv.writer() to create reader and writer objects?\n",
    "- To create a reader object, you pass a File object or a file-like object that contains CSV data to the `csv.reader()` function.\n",
    "- To create a writer object, you pass a File object or a file-like object where you want to write the CSV data to the `csv.writer()` function.\n",
    "\n",
    "3. What modes do File objects for reader and writer objects need to be opened in?\n",
    "- For a reader object, the File object needs to be opened in the read mode ('r') or in the text mode with reading ('rt').\n",
    "- For a writer object, the File object needs to be opened in the write mode ('w') or in the text mode with writing ('wt').\n",
    "\n",
    "4. What method takes a list argument and writes it to a CSV file?\n",
    "- The `writerow()` method of a writer object is used to write a list of values as a single row to a CSV file.\n",
    "\n",
    "5. What do the keyword arguments delimiter and line terminator do?\n",
    "- The `delimiter` keyword argument specifies the character used to separate fields in a CSV file. The default delimiter is a comma (,).\n",
    "- The `line_terminator` keyword argument specifies the character sequence used to terminate lines in a CSV file. The default line terminator is a newline character (\\n).\n",
    "\n",
    "6. What function takes a string of JSON data and returns a Python data structure?\n",
    "- The `json.loads()` function is used to parse a string of JSON data and convert it into a Python data structure (usually a dictionary or a list).\n",
    "\n",
    "7. What function takes a Python data structure and returns a string of JSON data?\n",
    "- The `json.dumps()` function is used to serialize a Python data structure into a JSON-formatted string."
   ]
  },
  {
   "cell_type": "code",
   "execution_count": null,
   "id": "0b33d4cb",
   "metadata": {},
   "outputs": [],
   "source": []
  },
  {
   "cell_type": "code",
   "execution_count": null,
   "id": "dfb3c0c2",
   "metadata": {},
   "outputs": [],
   "source": []
  },
  {
   "cell_type": "code",
   "execution_count": null,
   "id": "f83ae6dc",
   "metadata": {},
   "outputs": [],
   "source": []
  },
  {
   "cell_type": "code",
   "execution_count": null,
   "id": "25e6be42",
   "metadata": {},
   "outputs": [],
   "source": []
  },
  {
   "cell_type": "code",
   "execution_count": null,
   "id": "cff368bc",
   "metadata": {},
   "outputs": [],
   "source": []
  },
  {
   "cell_type": "code",
   "execution_count": null,
   "id": "0d313a9d",
   "metadata": {},
   "outputs": [],
   "source": []
  },
  {
   "cell_type": "code",
   "execution_count": null,
   "id": "d9396e02",
   "metadata": {},
   "outputs": [],
   "source": []
  },
  {
   "cell_type": "code",
   "execution_count": null,
   "id": "d24c970c",
   "metadata": {},
   "outputs": [],
   "source": []
  },
  {
   "cell_type": "code",
   "execution_count": null,
   "id": "a8cf0c42",
   "metadata": {},
   "outputs": [],
   "source": []
  },
  {
   "cell_type": "code",
   "execution_count": null,
   "id": "5560b869",
   "metadata": {},
   "outputs": [],
   "source": []
  },
  {
   "cell_type": "code",
   "execution_count": null,
   "id": "dfb63e16",
   "metadata": {},
   "outputs": [],
   "source": []
  },
  {
   "cell_type": "code",
   "execution_count": null,
   "id": "609fbb67",
   "metadata": {},
   "outputs": [],
   "source": []
  },
  {
   "cell_type": "code",
   "execution_count": null,
   "id": "2ab7b905",
   "metadata": {},
   "outputs": [],
   "source": []
  },
  {
   "cell_type": "code",
   "execution_count": null,
   "id": "a50f0490",
   "metadata": {},
   "outputs": [],
   "source": []
  },
  {
   "cell_type": "code",
   "execution_count": null,
   "id": "1aa90d38",
   "metadata": {},
   "outputs": [],
   "source": []
  },
  {
   "cell_type": "code",
   "execution_count": null,
   "id": "dd3593e0",
   "metadata": {},
   "outputs": [],
   "source": []
  },
  {
   "cell_type": "code",
   "execution_count": null,
   "id": "3a1a6dbe",
   "metadata": {},
   "outputs": [],
   "source": []
  },
  {
   "cell_type": "code",
   "execution_count": null,
   "id": "a97a3771",
   "metadata": {},
   "outputs": [],
   "source": []
  }
 ],
 "metadata": {
  "kernelspec": {
   "display_name": "Python 3 (ipykernel)",
   "language": "python",
   "name": "python3"
  },
  "language_info": {
   "codemirror_mode": {
    "name": "ipython",
    "version": 3
   },
   "file_extension": ".py",
   "mimetype": "text/x-python",
   "name": "python",
   "nbconvert_exporter": "python",
   "pygments_lexer": "ipython3",
   "version": "3.9.7"
  }
 },
 "nbformat": 4,
 "nbformat_minor": 5
}
