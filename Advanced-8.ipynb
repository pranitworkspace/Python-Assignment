{
 "cells": [
  {
   "cell_type": "markdown",
   "id": "6f445df1",
   "metadata": {},
   "source": [
    "Q1. What are the two latest user-defined exception constraints in Python 3.X?\n",
    "\n",
    "Q2. How are class-based exceptions that have been raised matched to handlers?\n",
    "\n",
    "Q3. Describe two methods for attaching context information to exception artefacts.\n",
    "\n",
    "Q4. Describe two methods for specifying the text of an exception object&#39;s error message.\n",
    "\n",
    "Q5. Why do you no longer use string-based exceptions?"
   ]
  },
  {
   "cell_type": "markdown",
   "id": "dbf33de0",
   "metadata": {},
   "source": [
    "# Solution:-"
   ]
  },
  {
   "cell_type": "markdown",
   "id": "bb765557",
   "metadata": {},
   "source": [
    "1. What are the two latest user-defined exception constraints in Python 3.X?\n",
    "\n",
    "A1. As of my knowledge cutoff in September 2021, Python 3.X does not have any predefined user-defined exception constraints. However, you can create your own custom exceptions by subclassing the built-in Exception class or any of its subclasses.\n",
    "\n",
    "2. How are class-based exceptions that have been raised matched to handlers?\n",
    "\n",
    "A2. When a class-based exception is raised, Python searches for an appropriate exception handler by following the exception hierarchy. It checks each level of the hierarchy, starting from the most specific exception class, and continues to the more general ones until it finds a matching handler. If no handler is found, the exception propagates up the call stack.\n",
    "\n",
    "3. Describe two methods for attaching context information to exception artifacts.\n",
    "\n",
    "A3. Two common methods for attaching context information to exception artifacts are:\n",
    "\n",
    "Adding custom attributes: You can attach additional information to an exception object by adding custom attributes to it. These attributes can be accessed in the exception handler to provide more context about the exception.\n",
    "Using exception arguments: When raising an exception, you can pass additional arguments that provide context information. These arguments can be accessed in the exception handler using the args attribute of the exception object.\n",
    "\n",
    "4. Describe two methods for specifying the text of an exception object's error message.\n",
    "\n",
    "A4. Two methods for specifying the text of an exception object's error message are:\n",
    "\n",
    "Using the constructor: When creating a new exception object, you can pass the desired error message as an argument to the exception's constructor. This allows you to customize the error message for that specific instance of the exception.\n",
    "Overriding the __str__() method: By default, the __str__() method of an exception class returns a string representation of the exception. You can override this method in your custom exception class to define the desired error message format.\n",
    "\n",
    "5. Why do you no longer use string-based exceptions?\n",
    "\n",
    "A5. In Python, it is recommended to use class-based exceptions instead of string-based exceptions. Class-based exceptions provide several benefits over string-based exceptions:\n",
    "\n",
    "Class-based exceptions allow for more precise exception handling by utilizing the exception hierarchy. They can be caught and handled at different levels, providing better control over the flow of the program.\n",
    "Class-based exceptions can carry additional information and attributes, providing context and details about the exception.\n",
    "Class-based exceptions can be subclassed to create custom exception hierarchies, allowing for more specific and meaningful exception handling.\n",
    "Class-based exceptions promote better code organization and maintainability by providing a clear structure for exception handling."
   ]
  },
  {
   "cell_type": "code",
   "execution_count": null,
   "id": "dd1ed0d5",
   "metadata": {},
   "outputs": [],
   "source": []
  },
  {
   "cell_type": "code",
   "execution_count": null,
   "id": "2c04d49e",
   "metadata": {},
   "outputs": [],
   "source": []
  },
  {
   "cell_type": "code",
   "execution_count": null,
   "id": "ed910101",
   "metadata": {},
   "outputs": [],
   "source": []
  },
  {
   "cell_type": "code",
   "execution_count": null,
   "id": "f72c912e",
   "metadata": {},
   "outputs": [],
   "source": []
  },
  {
   "cell_type": "code",
   "execution_count": null,
   "id": "3dca32ac",
   "metadata": {},
   "outputs": [],
   "source": []
  },
  {
   "cell_type": "code",
   "execution_count": null,
   "id": "68f6a0c3",
   "metadata": {},
   "outputs": [],
   "source": []
  },
  {
   "cell_type": "code",
   "execution_count": null,
   "id": "6797cfc6",
   "metadata": {},
   "outputs": [],
   "source": []
  },
  {
   "cell_type": "code",
   "execution_count": null,
   "id": "48bcad9b",
   "metadata": {},
   "outputs": [],
   "source": []
  },
  {
   "cell_type": "code",
   "execution_count": null,
   "id": "76be1d5b",
   "metadata": {},
   "outputs": [],
   "source": []
  },
  {
   "cell_type": "code",
   "execution_count": null,
   "id": "a9f7dabc",
   "metadata": {},
   "outputs": [],
   "source": []
  },
  {
   "cell_type": "code",
   "execution_count": null,
   "id": "fac831f3",
   "metadata": {},
   "outputs": [],
   "source": []
  }
 ],
 "metadata": {
  "kernelspec": {
   "display_name": "Python 3 (ipykernel)",
   "language": "python",
   "name": "python3"
  },
  "language_info": {
   "codemirror_mode": {
    "name": "ipython",
    "version": 3
   },
   "file_extension": ".py",
   "mimetype": "text/x-python",
   "name": "python",
   "nbconvert_exporter": "python",
   "pygments_lexer": "ipython3",
   "version": "3.9.7"
  }
 },
 "nbformat": 4,
 "nbformat_minor": 5
}
