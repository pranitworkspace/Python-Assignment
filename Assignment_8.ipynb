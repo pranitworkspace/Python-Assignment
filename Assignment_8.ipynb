{
 "cells": [
  {
   "cell_type": "markdown",
   "id": "acc94c8c",
   "metadata": {},
   "source": [
    "1. Is the Python Standard Library included with PyInputPlus?\n",
    "2. Why is PyInputPlus commonly imported with import pyinputplus as pypi?\n",
    "3. How do you distinguish between inputInt() and inputFloat()?\n",
    "4. Using PyInputPlus, how do you ensure that the user enters a whole number between 0 and 99?\n",
    "5. What is transferred to the keyword arguments allowRegexes and blockRegexes?\n",
    "6. If a blank input is entered three times, what does inputStr(limit=3) do?\n",
    "7. If blank input is entered three times, what does inputStr(limit=3, default=&#39;hello&#39;) do?"
   ]
  },
  {
   "cell_type": "markdown",
   "id": "1b98be2a",
   "metadata": {},
   "source": [
    "# Solution:-"
   ]
  },
  {
   "cell_type": "markdown",
   "id": "e7b111e9",
   "metadata": {},
   "source": [
    "1. Is the Python Standard Library included with PyInputPlus?\n",
    "\n",
    "No, the Python Standard Library is not included with PyInputPlus.\n",
    "\n",
    "2. Why is PyInputPlus commonly imported with import pyinputplus as pypi?\n",
    "\n",
    "PyInputPlus is commonly imported with the alias \"pypi\" for brevity and convenience. Using an alias allows for shorter and more readable code.\n",
    "\n",
    "3. How do you distinguish between inputInt() and inputFloat()?\n",
    "\n",
    "The inputInt() function is used for prompt the user for an integer input, while the inputFloat() function is used for prompt the user for a floating-point number input.\n",
    "\n",
    "4. Using PyInputPlus, how do you ensure that the user enters a whole number between 0 and 99?\n",
    "\n",
    "By using the inputInt() function with the min and max keyword arguments set accordingly:\n",
    "\n",
    "import pyinputplus as pypi\n",
    "number = pypi.inputInt(prompt='Enter a number between 0 and 99: ', min=0, max=99)\n",
    "\n",
    "\n",
    "5. What is transferred to the keyword arguments allowRegexes and blockRegexes?\n",
    "\n",
    "The allowRegexes and blockRegexes keyword arguments in PyInputPlus functions are used for specifying regular expressions patterns.\n",
    "allowRegexes: It is a list of regular expressions patterns that define the allowed input formats. \n",
    "blockRegexes: It is a list of regular expressions patterns that define the blocked input formats. \n",
    "\n",
    "6. If a blank input is entered three times, what does inputStr(limit=3) do?\n",
    "\n",
    "If a blank input is entered three times using inputStr(limit=3), the function will raise a RetryLimitException. This exception is raised when the maximum number of retries (specified by the limit parameter) is reached.\n",
    "\n",
    "7. If blank input is entered three times, what does inputStr(limit=3, default='hello') do?\n",
    "\n",
    "If blank input is entered three times using inputStr(limit=3, default='hello'), the function will give the default value 'hello' instead of raising a RetryLimitException. "
   ]
  },
  {
   "cell_type": "code",
   "execution_count": null,
   "id": "4f9185d0",
   "metadata": {},
   "outputs": [],
   "source": []
  },
  {
   "cell_type": "code",
   "execution_count": null,
   "id": "d0788ac9",
   "metadata": {},
   "outputs": [],
   "source": []
  }
 ],
 "metadata": {
  "kernelspec": {
   "display_name": "Python 3 (ipykernel)",
   "language": "python",
   "name": "python3"
  },
  "language_info": {
   "codemirror_mode": {
    "name": "ipython",
    "version": 3
   },
   "file_extension": ".py",
   "mimetype": "text/x-python",
   "name": "python",
   "nbconvert_exporter": "python",
   "pygments_lexer": "ipython3",
   "version": "3.9.7"
  }
 },
 "nbformat": 4,
 "nbformat_minor": 5
}
