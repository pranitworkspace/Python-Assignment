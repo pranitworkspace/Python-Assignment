{
 "cells": [
  {
   "cell_type": "markdown",
   "id": "0a7c983e",
   "metadata": {},
   "source": [
    "Q1. What is the difference between __getattr__ and __getattribute__?\n",
    "\n",
    "Q2. What is the difference between properties and descriptors?\n",
    "\n",
    "Q3. What are the key differences in functionality between __getattr__ and __getattribute__, as well as\n",
    "properties and descriptors?"
   ]
  },
  {
   "cell_type": "markdown",
   "id": "c97b4347",
   "metadata": {},
   "source": [
    "# Solution:-"
   ]
  },
  {
   "cell_type": "markdown",
   "id": "d720b922",
   "metadata": {},
   "source": [
    "1. What is the difference between getattr and getattribute?\n",
    "\n",
    "getattr and getattribute are both special methods in Python that are used to handle attribute access. However, they have some key differences:\n",
    "\n",
    "getattr: This method is called when an attribute is not found through the usual process of attribute lookup. It is invoked only when the attribute is not present in the instance's dictionary, nor in its class or any of its parent classes. It allows you to dynamically compute or provide a default value for the attribute.\n",
    "\n",
    "getattribute: This method is called for every attribute access, regardless of whether the attribute exists or not. It is invoked before checking the instance's dictionary or the class hierarchy. It provides a way to intercept all attribute access and perform custom actions.\n",
    "\n",
    "In summary, the main difference between getattr and getattribute is that getattr is only called when an attribute is not found, while getattribute is called for every attribute access.\n",
    "\n",
    "2. What is the difference between properties and descriptors?\n",
    "\n",
    "Properties and descriptors are both mechanisms in Python that allow you to define custom behavior for attribute access, but they have some differences:\n",
    "\n",
    "Properties: Properties are a simpler and more common way to define computed or dynamic attributes. They use the @property decorator to define a method that is accessed like an attribute. Properties allow you to define getters, setters, and deleters for attributes, controlling their access and modification.\n",
    "\n",
    "Descriptors: Descriptors provide a more flexible and low-level way to define attribute access behavior. They involve defining special methods (get, set, delete) within a descriptor class, which can then be assigned to attributes of other classes. Descriptors allow you to customize attribute access on a per-attribute basis.\n",
    "\n",
    "In summary, properties are a high-level way to define attribute access behavior, while descriptors provide a lower-level mechanism for fine-grained control over attribute access.\n",
    "\n",
    "3. What are the key differences in functionality between getattr and getattribute, as well as properties and descriptors?\n",
    "\n",
    "getattr vs. getattribute: The main difference is that getattr is called only when an attribute is not found, while getattribute is called for every attribute access. getattr can be used to provide default or dynamically computed attribute values, while getattribute can be used to intercept and modify all attribute access.\n",
    "\n",
    "Properties vs. descriptors: Properties are a higher-level concept and provide a convenient way to define computed or dynamic attributes. They are defined using the @property decorator and allow you to define getters, setters, and deleters for attributes. Descriptors, on the other hand, provide more flexibility and control over attribute access. They involve defining special methods within a descriptor class and can be assigned to attributes of other classes.\n",
    "\n",
    "In summary, getattr and getattribute are specific to handling attribute access, while properties and descriptors are more general mechanisms for defining attribute access behavior."
   ]
  },
  {
   "cell_type": "code",
   "execution_count": null,
   "id": "01cf6244",
   "metadata": {},
   "outputs": [],
   "source": []
  },
  {
   "cell_type": "code",
   "execution_count": null,
   "id": "d69270c3",
   "metadata": {},
   "outputs": [],
   "source": []
  },
  {
   "cell_type": "code",
   "execution_count": null,
   "id": "0d776d7b",
   "metadata": {},
   "outputs": [],
   "source": []
  },
  {
   "cell_type": "code",
   "execution_count": null,
   "id": "08b9cee8",
   "metadata": {},
   "outputs": [],
   "source": []
  },
  {
   "cell_type": "code",
   "execution_count": null,
   "id": "2c9469e7",
   "metadata": {},
   "outputs": [],
   "source": []
  },
  {
   "cell_type": "code",
   "execution_count": null,
   "id": "d609b5b4",
   "metadata": {},
   "outputs": [],
   "source": []
  },
  {
   "cell_type": "code",
   "execution_count": null,
   "id": "829539a1",
   "metadata": {},
   "outputs": [],
   "source": []
  },
  {
   "cell_type": "code",
   "execution_count": null,
   "id": "93693a2c",
   "metadata": {},
   "outputs": [],
   "source": []
  },
  {
   "cell_type": "code",
   "execution_count": null,
   "id": "e9444fe4",
   "metadata": {},
   "outputs": [],
   "source": []
  },
  {
   "cell_type": "code",
   "execution_count": null,
   "id": "203bd1ca",
   "metadata": {},
   "outputs": [],
   "source": []
  },
  {
   "cell_type": "code",
   "execution_count": null,
   "id": "f0db451a",
   "metadata": {},
   "outputs": [],
   "source": []
  },
  {
   "cell_type": "code",
   "execution_count": null,
   "id": "61297d8a",
   "metadata": {},
   "outputs": [],
   "source": []
  },
  {
   "cell_type": "code",
   "execution_count": null,
   "id": "e25aa563",
   "metadata": {},
   "outputs": [],
   "source": []
  },
  {
   "cell_type": "code",
   "execution_count": null,
   "id": "86c8556d",
   "metadata": {},
   "outputs": [],
   "source": []
  },
  {
   "cell_type": "code",
   "execution_count": null,
   "id": "78954b4d",
   "metadata": {},
   "outputs": [],
   "source": []
  },
  {
   "cell_type": "code",
   "execution_count": null,
   "id": "c2b57f12",
   "metadata": {},
   "outputs": [],
   "source": []
  },
  {
   "cell_type": "code",
   "execution_count": null,
   "id": "6dd4b4c2",
   "metadata": {},
   "outputs": [],
   "source": []
  }
 ],
 "metadata": {
  "kernelspec": {
   "display_name": "Python 3 (ipykernel)",
   "language": "python",
   "name": "python3"
  },
  "language_info": {
   "codemirror_mode": {
    "name": "ipython",
    "version": 3
   },
   "file_extension": ".py",
   "mimetype": "text/x-python",
   "name": "python",
   "nbconvert_exporter": "python",
   "pygments_lexer": "ipython3",
   "version": "3.9.7"
  }
 },
 "nbformat": 4,
 "nbformat_minor": 5
}
