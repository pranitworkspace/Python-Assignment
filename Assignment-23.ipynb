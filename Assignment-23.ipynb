{
 "cells": [
  {
   "cell_type": "markdown",
   "id": "827654a6",
   "metadata": {},
   "source": [
    "1. What is the result of the code, and why?\n",
    "```\n",
    ">>> def func(a, b=6, c=8):\n",
    "...     print(a, b, c)\n",
    ">>> func(1, 2)\n",
    "```\n",
    "The result of the code will be:\n",
    "```\n",
    "1 2 8\n",
    "```\n",
    "When the function `func` is called, the arguments `1` and `2` are assigned to parameters `a` and `b`, respectively. The default value of `c` is not overridden, so it remains as `8`. Therefore, the function prints `1` for `a`, `2` for `b`, and `8` for `c`.\n",
    "\n",
    "2. What is the result of this code, and why?\n",
    "```\n",
    ">>> def func(a, b, c=5):\n",
    "...     print(a, b, c)\n",
    ">>> func(1, c=3, b=2)\n",
    "```\n",
    "The result of the code will be:\n",
    "```\n",
    "1 2 3\n",
    "```\n",
    "In this case, the arguments `1` and `2` are explicitly passed to parameters `a` and `b` respectively. The argument `3` is passed as a keyword argument to the parameter `c`. Therefore, the function prints `1` for `a`, `2` for `b`, and `3` for `c`.\n",
    "\n",
    "3. How about this code: what is its result, and why?\n",
    "```\n",
    ">>> def func(a, *pargs):\n",
    "...     print(a, pargs)\n",
    ">>> func(1, 2, 3)\n",
    "```\n",
    "The result of the code will be:\n",
    "```\n",
    "1 (2, 3)\n",
    "```\n",
    "In this code, the `*pargs` parameter allows the function to accept any number of additional positional arguments after the initial `a` argument. When calling the function, `1` is assigned to `a`, and `2` and `3` are packed into a tuple and assigned to `pargs`. Therefore, the function prints `1` for `a` and `(2, 3)` for `pargs`.\n",
    "\n",
    "4. What does this code print, and why?\n",
    "```\n",
    ">>> def func(a, **kargs):\n",
    "...     print(a, kargs)\n",
    ">>> func(a=1, c=3, b=2)\n",
    "```\n",
    "The code will print:\n",
    "```\n",
    "1 {'c': 3, 'b': 2}\n",
    "```\n",
    "The `**kargs` parameter allows the function to accept any number of additional keyword arguments. In this case, `1` is assigned to `a`, and the keyword arguments `c=3` and `b=2` are packed into a dictionary and assigned to `kargs`. Therefore, the function prints `1` for `a` and `{'c': 3, 'b': 2}` for `kargs`.\n",
    "\n",
    "5. What gets printed by this, and explain?\n",
    "```\n",
    ">>> def func(a, b, c=8, d=5):\n",
    "...     print(a, b, c, d)\n",
    ">>> func(1, *(5, 6))\n",
    "```\n",
    "The code will print:\n",
    "```\n",
    "1 5 6 5\n",
    "```\n",
    "In this code, the `*(5, 6)` syntax unpacks the tuple `(5, 6)` into separate arguments that match the function parameters. So, `1` is assigned to `a`, `5` is assigned to `b`, and `6` is assigned to `c` (since it matches the third parameter in the function definition). The default value of `d` remains as `5`. Therefore, the function prints `1` for `a`, `5` for `b`, `6` for `c`, and `5` for `d`.\n",
    "\n",
    "6. What is the result of this, and explain?\n",
    "```\n",
    ">>> def func(a, b, c):\n",
    "...     a = 2\n",
    "...     b[0] = 'x'\n",
    "...     c['a'] = 'y'\n",
    ">>> l = 1\n",
    ">>> m = [1]\n",
    ">>> n = {'a': 0}\n",
    ">>> func(l, m, n)\n",
    ">>> l, m, n\n",
    "```\n",
    "The result will be:\n",
    "```\n",
    "1, ['x'], {'a': 'y'}\n",
    "```\n",
    "In this code, the function `func` modifies the variables passed as arguments. Since `l` is an immutable integer, it remains unchanged. However, `m` is a mutable list, so when `b[0]` is assigned `'x'`, it modifies the list in place. Similarly, `n` is a mutable dictionary, so when `c['a']` is assigned `'y'`, it modifies the dictionary in place. Therefore, after calling `func`, the value of `l` remains `1`, `m` becomes `['x']`, and `n` becomes `{'a': 'y'}`."
   ]
  },
  {
   "cell_type": "code",
   "execution_count": null,
   "id": "b90d0e9c",
   "metadata": {},
   "outputs": [],
   "source": []
  },
  {
   "cell_type": "code",
   "execution_count": null,
   "id": "e1d51072",
   "metadata": {},
   "outputs": [],
   "source": []
  },
  {
   "cell_type": "code",
   "execution_count": null,
   "id": "c15c526c",
   "metadata": {},
   "outputs": [],
   "source": []
  },
  {
   "cell_type": "code",
   "execution_count": null,
   "id": "55e13de3",
   "metadata": {},
   "outputs": [],
   "source": []
  },
  {
   "cell_type": "code",
   "execution_count": null,
   "id": "291b198e",
   "metadata": {},
   "outputs": [],
   "source": []
  },
  {
   "cell_type": "code",
   "execution_count": null,
   "id": "cf659cf3",
   "metadata": {},
   "outputs": [],
   "source": []
  },
  {
   "cell_type": "code",
   "execution_count": null,
   "id": "1d939cf0",
   "metadata": {},
   "outputs": [],
   "source": []
  },
  {
   "cell_type": "code",
   "execution_count": null,
   "id": "def93221",
   "metadata": {},
   "outputs": [],
   "source": []
  },
  {
   "cell_type": "code",
   "execution_count": null,
   "id": "ed62c1ce",
   "metadata": {},
   "outputs": [],
   "source": []
  },
  {
   "cell_type": "code",
   "execution_count": null,
   "id": "1b0cd58f",
   "metadata": {},
   "outputs": [],
   "source": []
  },
  {
   "cell_type": "code",
   "execution_count": null,
   "id": "44cbb292",
   "metadata": {},
   "outputs": [],
   "source": []
  },
  {
   "cell_type": "code",
   "execution_count": null,
   "id": "ed8acbf5",
   "metadata": {},
   "outputs": [],
   "source": []
  },
  {
   "cell_type": "code",
   "execution_count": null,
   "id": "ea0e0ca6",
   "metadata": {},
   "outputs": [],
   "source": []
  },
  {
   "cell_type": "code",
   "execution_count": null,
   "id": "61e3a5b4",
   "metadata": {},
   "outputs": [],
   "source": []
  },
  {
   "cell_type": "code",
   "execution_count": null,
   "id": "d68aaea8",
   "metadata": {},
   "outputs": [],
   "source": []
  },
  {
   "cell_type": "code",
   "execution_count": null,
   "id": "566c9f6e",
   "metadata": {},
   "outputs": [],
   "source": []
  },
  {
   "cell_type": "code",
   "execution_count": null,
   "id": "040c6b0b",
   "metadata": {},
   "outputs": [],
   "source": []
  },
  {
   "cell_type": "code",
   "execution_count": null,
   "id": "cba09776",
   "metadata": {},
   "outputs": [],
   "source": []
  },
  {
   "cell_type": "code",
   "execution_count": null,
   "id": "b80769d7",
   "metadata": {},
   "outputs": [],
   "source": []
  },
  {
   "cell_type": "code",
   "execution_count": null,
   "id": "72b5ffd8",
   "metadata": {},
   "outputs": [],
   "source": []
  },
  {
   "cell_type": "code",
   "execution_count": null,
   "id": "51a17c20",
   "metadata": {},
   "outputs": [],
   "source": []
  },
  {
   "cell_type": "code",
   "execution_count": null,
   "id": "3d36745d",
   "metadata": {},
   "outputs": [],
   "source": []
  },
  {
   "cell_type": "code",
   "execution_count": null,
   "id": "a756ee0a",
   "metadata": {},
   "outputs": [],
   "source": []
  },
  {
   "cell_type": "code",
   "execution_count": null,
   "id": "75a643f3",
   "metadata": {},
   "outputs": [],
   "source": []
  },
  {
   "cell_type": "code",
   "execution_count": null,
   "id": "4412a837",
   "metadata": {},
   "outputs": [],
   "source": []
  }
 ],
 "metadata": {
  "kernelspec": {
   "display_name": "Python 3 (ipykernel)",
   "language": "python",
   "name": "python3"
  },
  "language_info": {
   "codemirror_mode": {
    "name": "ipython",
    "version": 3
   },
   "file_extension": ".py",
   "mimetype": "text/x-python",
   "name": "python",
   "nbconvert_exporter": "python",
   "pygments_lexer": "ipython3",
   "version": "3.9.7"
  }
 },
 "nbformat": 4,
 "nbformat_minor": 5
}
