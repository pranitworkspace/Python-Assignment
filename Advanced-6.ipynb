{
 "cells": [
  {
   "cell_type": "markdown",
   "id": "27e187c2",
   "metadata": {},
   "source": [
    "Q1. Describe three applications for exception processing.\n",
    "\n",
    "Q2. What happens if you don&#39;t do something extra to treat an exception?\n",
    "\n",
    "Q3. What are your options for recovering from an exception in your script?\n",
    "\n",
    "Q4. Describe two methods for triggering exceptions in your script.\n",
    "\n",
    "Q5. Identify two methods for specifying actions to be executed at termination time, regardless of\n",
    "whether or not an exception exists."
   ]
  },
  {
   "cell_type": "markdown",
   "id": "4ae0d988",
   "metadata": {},
   "source": [
    "# Solution:-"
   ]
  },
  {
   "cell_type": "markdown",
   "id": "d5a03069",
   "metadata": {},
   "source": [
    "1. Describe three applications for exception processing.\n",
    "\n",
    "Exception processing is commonly used in error handling, allowing you to handle unexpected situations or errors that may occur during the execution of a program.\n",
    "Exception processing is also useful for input validation, where you can catch specific exceptions to handle invalid user inputs or unexpected data.\n",
    "Exception processing is applied in resource management, such as closing files or releasing system resources, to ensure that resources are properly handled even if exceptions occur.\n",
    "\n",
    "2. What happens if you don't do something extra to treat an exception?\n",
    "\n",
    "If an exception is not handled or treated in some way, it will result in an unhandled exception error, causing the program to terminate abruptly. The error message will typically provide information about the type of exception that occurred and the line of code where the exception was raised.\n",
    "\n",
    "3. What are your options for recovering from an exception in your script?\n",
    "\n",
    "You can use a try-except block to catch and handle exceptions. Within the except block, you can write code to handle the exception, perform alternative actions, or display an error message.\n",
    "Another option is to propagate the exception to a higher-level handler by re-raising the exception using the raise keyword. This allows the exception to be handled in an outer try-except block or by the main program.\n",
    "You can also use the finally block to specify code that will be executed regardless of whether an exception occurs. This block is useful for releasing resources or cleaning up operations.\n",
    "\n",
    "4. Describe two methods for triggering exceptions in your script.\n",
    "\n",
    "You can trigger exceptions manually by using the raise statement followed by an exception class. For example, raise ValueError(\"Invalid input\") raises a ValueError exception with a custom error message.\n",
    "Built-in functions and methods can also raise exceptions when certain conditions are not met. For instance, calling int(\"abc\") will raise a ValueError because \"abc\" cannot be converted to an integer.\n",
    "\n",
    "5. Identify two methods for specifying actions to be executed at termination time, regardless of whether or not an exception exists.\n",
    "\n",
    "You can use a try-finally block to specify cleanup code that should be executed regardless of whether an exception occurred. The code within the finally block will be executed before the program exits.\n",
    "Another method is to use the atexit module, which allows you to register functions to be executed at program termination. These functions will run regardless of whether an exception occurred or not. The atexit.register() function is used to register the functions."
   ]
  },
  {
   "cell_type": "code",
   "execution_count": null,
   "id": "32243221",
   "metadata": {},
   "outputs": [],
   "source": []
  },
  {
   "cell_type": "code",
   "execution_count": null,
   "id": "9975cb0d",
   "metadata": {},
   "outputs": [],
   "source": []
  },
  {
   "cell_type": "code",
   "execution_count": null,
   "id": "dfb15a96",
   "metadata": {},
   "outputs": [],
   "source": []
  },
  {
   "cell_type": "code",
   "execution_count": null,
   "id": "619787f4",
   "metadata": {},
   "outputs": [],
   "source": []
  },
  {
   "cell_type": "code",
   "execution_count": null,
   "id": "7fd5fff5",
   "metadata": {},
   "outputs": [],
   "source": []
  },
  {
   "cell_type": "code",
   "execution_count": null,
   "id": "382ab15e",
   "metadata": {},
   "outputs": [],
   "source": []
  },
  {
   "cell_type": "code",
   "execution_count": null,
   "id": "17f8beef",
   "metadata": {},
   "outputs": [],
   "source": []
  },
  {
   "cell_type": "code",
   "execution_count": null,
   "id": "a3995d8c",
   "metadata": {},
   "outputs": [],
   "source": []
  },
  {
   "cell_type": "code",
   "execution_count": null,
   "id": "30633b97",
   "metadata": {},
   "outputs": [],
   "source": []
  },
  {
   "cell_type": "code",
   "execution_count": null,
   "id": "60e84355",
   "metadata": {},
   "outputs": [],
   "source": []
  },
  {
   "cell_type": "code",
   "execution_count": null,
   "id": "d5ccbae1",
   "metadata": {},
   "outputs": [],
   "source": []
  },
  {
   "cell_type": "code",
   "execution_count": null,
   "id": "fdd22a5c",
   "metadata": {},
   "outputs": [],
   "source": []
  },
  {
   "cell_type": "code",
   "execution_count": null,
   "id": "edcd2fca",
   "metadata": {},
   "outputs": [],
   "source": []
  },
  {
   "cell_type": "code",
   "execution_count": null,
   "id": "c312c93d",
   "metadata": {},
   "outputs": [],
   "source": []
  },
  {
   "cell_type": "code",
   "execution_count": null,
   "id": "6c14b3a3",
   "metadata": {},
   "outputs": [],
   "source": []
  },
  {
   "cell_type": "code",
   "execution_count": null,
   "id": "f7c057a7",
   "metadata": {},
   "outputs": [],
   "source": []
  }
 ],
 "metadata": {
  "kernelspec": {
   "display_name": "Python 3 (ipykernel)",
   "language": "python",
   "name": "python3"
  },
  "language_info": {
   "codemirror_mode": {
    "name": "ipython",
    "version": 3
   },
   "file_extension": ".py",
   "mimetype": "text/x-python",
   "name": "python",
   "nbconvert_exporter": "python",
   "pygments_lexer": "ipython3",
   "version": "3.9.7"
  }
 },
 "nbformat": 4,
 "nbformat_minor": 5
}
