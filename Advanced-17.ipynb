{
 "cells": [
  {
   "cell_type": "markdown",
   "id": "35fe446d",
   "metadata": {},
   "source": [
    "Q1. Explain the difference between greedy and non-greedy syntax with visual terms in as few words\n",
    "as possible. What is the bare minimum effort required to transform a greedy pattern into a non-greedy\n",
    "one? What characters or characters can you introduce or change?\n",
    "\n",
    "Q2. When exactly does greedy versus non-greedy make a difference?  What if you&#39;re looking for a\n",
    "non-greedy match but the only one available is greedy?\n",
    "\n",
    "Q3. In a simple match of a string, which looks only for one match and does not do any replacement, is\n",
    "the use of a nontagged group likely to make any practical difference?\n",
    "\n",
    "Q4. Describe a scenario in which using a nontagged category would have a significant impact on the\n",
    "program&#39;s outcomes.\n",
    "\n",
    "Q5. Unlike a normal regex pattern, a look-ahead condition does not consume the characters it\n",
    "examines. Describe a situation in which this could make a difference in the results of your\n",
    "programme.\n",
    "\n",
    "Q6. In standard expressions, what is the difference between positive look-ahead and negative look-\n",
    "ahead?\n",
    "\n",
    "Q7. What is the benefit of referring to groups by name rather than by number in a standard\n",
    "expression?\n",
    "\n",
    "Q8. Can you identify repeated items within a target string using named groups, as in &quot;The cow\n",
    "jumped over the moon&quot;?\n",
    "\n",
    "Q9. When parsing a string, what is at least one thing that the Scanner interface does for you that the\n",
    "re.findall feature does not?\n",
    "\n",
    "Q10. Does a scanner object have to be named scanner?"
   ]
  },
  {
   "cell_type": "markdown",
   "id": "2a58bce6",
   "metadata": {},
   "source": [
    "# Solution:-"
   ]
  },
  {
   "cell_type": "markdown",
   "id": "6fe62f5e",
   "metadata": {},
   "source": [
    "1. Explain the difference between greedy and non-greedy syntax with visual terms in as few words as possible. What is the bare minimum effort required to transform a greedy pattern into a non-greedy one? What characters or characters can you introduce or change?\n",
    "\n",
    "Greedy syntax matches the longest possible substring that satisfies the pattern, while non-greedy syntax matches the shortest possible substring. To transform a greedy pattern into a non-greedy one, you can introduce the ? character after a quantifier. For example, changing .* (greedy) to .*? (non-greedy) will make the pattern match the shortest substring.\n",
    "\n",
    "2. When exactly does greedy versus non-greedy make a difference? What if you're looking for a non-greedy match but the only one available is greedy?\n",
    "\n",
    "Greedy versus non-greedy makes a difference when there are multiple occurrences of the pattern in the string. Greedy matches will try to consume as much of the string as possible, while non-greedy matches will try to consume as little as possible. If a non-greedy match is not available, you may need to adjust the pattern or use alternative techniques to achieve the desired result.\n",
    "\n",
    "3. In a simple match of a string, which looks only for one match and does not do any replacement, is the use of a nontagged group likely to make any practical difference?\n",
    "\n",
    "In a simple match without any replacement, the use of a non-tagged group may not make a practical difference. Non-tagged groups are mainly used to capture and extract specific portions of the matched string. If the goal is to simply check for a match without capturing any specific part, non-tagged groups may not have a significant impact.\n",
    "\n",
    "4. Describe a scenario in which using a nontagged category would have a significant impact on the program's outcomes.\n",
    "\n",
    "One scenario where using a non-tagged category can have a significant impact is when you want to use the captured group for further processing or manipulation. Non-tagged groups allow you to extract specific parts of the matched string and use them in subsequent operations, such as replacing, rearranging, or storing the captured values.\n",
    "\n",
    "5. Unlike a normal regex pattern, a look-ahead condition does not consume the characters it examines. Describe a situation in which this could make a difference in the results of your program.\n",
    "\n",
    "One situation where the non-consumption of characters by a look-ahead condition can make a difference is when you need to assert the presence or absence of certain patterns without actually including them in the final match. This can be useful when validating input or implementing complex matching conditions, where the content you want to assert should not be part of the final matched result.\n",
    "\n",
    "6. In standard expressions, what is the difference between positive look-ahead and negative look-ahead?\n",
    "\n",
    "Positive look-ahead ((?=...)) is a type of look-ahead condition that asserts that a pattern must be followed by another pattern. It matches the first pattern only if the second pattern exists ahead of it.\n",
    "Negative look-ahead ((?!...)) is a type of look-ahead condition that asserts that a pattern must not be followed by another pattern. It matches the first pattern only if the second pattern does not exist ahead of it.\n",
    "\n",
    "7. What is the benefit of referring to groups by name rather than by number in a standard expression?\n",
    "\n",
    "Referring to groups by name instead of by number in a standard expression provides better code readability and makes the pattern more understandable. Group names provide a clear and descriptive reference to specific parts of the pattern, improving the readability and maintainability of the code.\n",
    "\n",
    "8. Can you identify repeated items within a target string using named groups, as in \"The cow jumped over the moon\"?\n",
    "\n",
    "Yes, you can identify repeated items within a target string using named groups. By defining a named group in the pattern, you can capture and refer to specific repeated items using the group name. For example, if you have a pattern like (?P<animal>\\w+) (?P<action>\\w+), you can capture and access the animal and action separately for each repeated occurrence in the target string.\n",
    "\n",
    "9. When parsing a string, what is at least one thing that the Scanner interface does for you that the re.findall feature does not?\n",
    "\n",
    "The Scanner interface provides more control over the parsing process compared to the re.findall feature. It allows you to define specific patterns and use different actions for each pattern, such as tokenizing the input string into different types of elements or performing custom operations based on the matched patterns. The Scanner interface offers more flexibility and customization options during the parsing process.\n",
    "\n",
    "\n",
    "10. Does a scanner object have to be named scanner?\n",
    "\n",
    "No, a scanner object does not have to be named \"scanner\". The name of the scanner object can be chosen according to the programmer's preference and the naming conventions of the programming language being used. The name should be meaningful and descriptive to improve code readability and maintainability.\n"
   ]
  },
  {
   "cell_type": "code",
   "execution_count": null,
   "id": "c36559d5",
   "metadata": {},
   "outputs": [],
   "source": []
  },
  {
   "cell_type": "code",
   "execution_count": null,
   "id": "574ad744",
   "metadata": {},
   "outputs": [],
   "source": []
  },
  {
   "cell_type": "code",
   "execution_count": null,
   "id": "e3abe39b",
   "metadata": {},
   "outputs": [],
   "source": []
  },
  {
   "cell_type": "code",
   "execution_count": null,
   "id": "db839003",
   "metadata": {},
   "outputs": [],
   "source": []
  },
  {
   "cell_type": "code",
   "execution_count": null,
   "id": "900848c8",
   "metadata": {},
   "outputs": [],
   "source": []
  },
  {
   "cell_type": "code",
   "execution_count": null,
   "id": "90511332",
   "metadata": {},
   "outputs": [],
   "source": []
  },
  {
   "cell_type": "code",
   "execution_count": null,
   "id": "8f4744b2",
   "metadata": {},
   "outputs": [],
   "source": []
  },
  {
   "cell_type": "code",
   "execution_count": null,
   "id": "45d57e27",
   "metadata": {},
   "outputs": [],
   "source": []
  },
  {
   "cell_type": "code",
   "execution_count": null,
   "id": "4bc396fc",
   "metadata": {},
   "outputs": [],
   "source": []
  },
  {
   "cell_type": "code",
   "execution_count": null,
   "id": "381ac390",
   "metadata": {},
   "outputs": [],
   "source": []
  },
  {
   "cell_type": "code",
   "execution_count": null,
   "id": "74a8e4f0",
   "metadata": {},
   "outputs": [],
   "source": []
  },
  {
   "cell_type": "code",
   "execution_count": null,
   "id": "a0b1def2",
   "metadata": {},
   "outputs": [],
   "source": []
  },
  {
   "cell_type": "code",
   "execution_count": null,
   "id": "77609aac",
   "metadata": {},
   "outputs": [],
   "source": []
  },
  {
   "cell_type": "code",
   "execution_count": null,
   "id": "a61a7e6b",
   "metadata": {},
   "outputs": [],
   "source": []
  },
  {
   "cell_type": "code",
   "execution_count": null,
   "id": "2a5df15e",
   "metadata": {},
   "outputs": [],
   "source": []
  },
  {
   "cell_type": "code",
   "execution_count": null,
   "id": "e9ca65ab",
   "metadata": {},
   "outputs": [],
   "source": []
  },
  {
   "cell_type": "code",
   "execution_count": null,
   "id": "899982d7",
   "metadata": {},
   "outputs": [],
   "source": []
  },
  {
   "cell_type": "code",
   "execution_count": null,
   "id": "aa32b84e",
   "metadata": {},
   "outputs": [],
   "source": []
  },
  {
   "cell_type": "code",
   "execution_count": null,
   "id": "65f18c0f",
   "metadata": {},
   "outputs": [],
   "source": []
  },
  {
   "cell_type": "code",
   "execution_count": null,
   "id": "f278561c",
   "metadata": {},
   "outputs": [],
   "source": []
  },
  {
   "cell_type": "code",
   "execution_count": null,
   "id": "a2240fa4",
   "metadata": {},
   "outputs": [],
   "source": []
  },
  {
   "cell_type": "code",
   "execution_count": null,
   "id": "d7f30408",
   "metadata": {},
   "outputs": [],
   "source": []
  },
  {
   "cell_type": "code",
   "execution_count": null,
   "id": "17a2097f",
   "metadata": {},
   "outputs": [],
   "source": []
  },
  {
   "cell_type": "code",
   "execution_count": null,
   "id": "4714d39e",
   "metadata": {},
   "outputs": [],
   "source": []
  }
 ],
 "metadata": {
  "kernelspec": {
   "display_name": "Python 3 (ipykernel)",
   "language": "python",
   "name": "python3"
  },
  "language_info": {
   "codemirror_mode": {
    "name": "ipython",
    "version": 3
   },
   "file_extension": ".py",
   "mimetype": "text/x-python",
   "name": "python",
   "nbconvert_exporter": "python",
   "pygments_lexer": "ipython3",
   "version": "3.9.7"
  }
 },
 "nbformat": 4,
 "nbformat_minor": 5
}
