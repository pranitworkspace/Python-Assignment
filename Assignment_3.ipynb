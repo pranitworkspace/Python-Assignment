{
 "cells": [
  {
   "cell_type": "code",
   "execution_count": null,
   "id": "7a13afbf",
   "metadata": {},
   "outputs": [],
   "source": [
    "1. Why are functions advantageous to have in your programs?\n",
    "2. When does the code in a function run: when it&#39;s specified or when it&#39;s called?\n",
    "3. What statement creates a function?\n",
    "4. What is the difference between a function and a function call?\n",
    "5. How many global scopes are there in a Python program? How many local scopes?\n",
    "6. What happens to variables in a local scope when the function call returns?\n",
    "7. What is the concept of a return value? Is it possible to have a return value in an expression?\n",
    "8. If a function does not have a return statement, what is the return value of a call to that function?\n",
    "9. How do you make a function variable refer to the global variable?\n",
    "10. What is the data type of None?\n",
    "11. What does the sentence import areallyourpetsnamederic do?\n",
    "12. If you had a bacon() feature in a spam module, what would you call it after importing spam?\n",
    "13. What can you do to save a programme from crashing if it encounters an error?\n",
    "14. What is the purpose of the try clause? What is the purpose of the except clause?"
   ]
  },
  {
   "cell_type": "markdown",
   "id": "b30e241e",
   "metadata": {},
   "source": [
    "# Solution:-"
   ]
  },
  {
   "cell_type": "markdown",
   "id": "be768a52",
   "metadata": {},
   "source": [
    "1. Why are functions advantageous to have in your programs?"
   ]
  },
  {
   "cell_type": "markdown",
   "id": "bdf57b0f",
   "metadata": {},
   "source": [
    "functions have advantage like code reuse, structure pattern while writing code, saves time and improve efficiency of program.This will help to makes code easy to read, write and maintain."
   ]
  },
  {
   "cell_type": "markdown",
   "id": "21685738",
   "metadata": {},
   "source": [
    "2. When does the code in a function run: when it&#39;s specified or when it&#39;s called?"
   ]
  },
  {
   "cell_type": "markdown",
   "id": "8e46adf1",
   "metadata": {},
   "source": [
    "function will run when it is called"
   ]
  },
  {
   "cell_type": "markdown",
   "id": "56b57da1",
   "metadata": {},
   "source": [
    "3. What statement creates a function?"
   ]
  },
  {
   "cell_type": "markdown",
   "id": "9e2a786b",
   "metadata": {},
   "source": [
    "the def statement is used to create function."
   ]
  },
  {
   "cell_type": "markdown",
   "id": "11ca3871",
   "metadata": {},
   "source": [
    "4. What is the difference between a function and a function call?"
   ]
  },
  {
   "cell_type": "markdown",
   "id": "24582360",
   "metadata": {},
   "source": [
    "function is defined using the def keyword followed by the function name, parentheses, and a colon, and may include parameters and a return statement.\n",
    "\n",
    "A function call is the invocation of the function by its name followed by parentheses that contain the values (or arguments) to be passed to the function."
   ]
  },
  {
   "cell_type": "markdown",
   "id": "56fc467d",
   "metadata": {},
   "source": [
    "5. How many global scopes are there in a Python program? How many local scopes?"
   ]
  },
  {
   "cell_type": "markdown",
   "id": "d34a66b6",
   "metadata": {},
   "source": [
    "there is only one global scope in python program which is created when the program starts executing. Every module has its global scope. local scope is created whenever a function is called. Therefore, the number of local scopes depends on the number of function calls made during the program execution."
   ]
  },
  {
   "cell_type": "markdown",
   "id": "680e883c",
   "metadata": {},
   "source": [
    "6. What happens to variables in a local scope when the function call returns?\n",
    "\n",
    "When a function call returns, the local scope is destroyed, and all the variables in that scope are forgotten. The values of those variables are no longer accessible, and any attempt to access them will result in a NameError."
   ]
  },
  {
   "cell_type": "markdown",
   "id": "dfa72f93",
   "metadata": {},
   "source": [
    "7. What is the concept of a return value? Is it possible to have a return value in an expression?\n",
    "\n",
    "A return value is the value that a function call evaluates to and sends back to the caller. It is a way for function to provide output to the calling program.\n",
    "\n",
    "Yes, it is possible to have a return value in an expression. A return value can be used as a part of an expression. "
   ]
  },
  {
   "cell_type": "markdown",
   "id": "0893a81a",
   "metadata": {},
   "source": [
    "8. If a function does not have a return statement, what is the return value of a call to that function?\n",
    "\n",
    "If a function does not have a return statement, the return value of a call to that function is None."
   ]
  },
  {
   "cell_type": "markdown",
   "id": "013d5639",
   "metadata": {},
   "source": [
    "9. How do you make a function variable refer to the global variable?\n",
    "\n",
    "To make a function variable refer to the global variable, you can use the global keyword followed by the variable name inside the function."
   ]
  },
  {
   "cell_type": "markdown",
   "id": "72199823",
   "metadata": {},
   "source": [
    "10. What is the data type of None?\n",
    "\n",
    "The data type of None is NoneType."
   ]
  },
  {
   "cell_type": "markdown",
   "id": "734e129c",
   "metadata": {},
   "source": [
    "11. What does the sentence import areallyourpetsnamederic do?\n",
    "\n",
    "The sentence import areallyourpetsnamederic does not refer to any valid Python module."
   ]
  },
  {
   "cell_type": "markdown",
   "id": "006f52ef",
   "metadata": {},
   "source": [
    "12. If you had a bacon() feature in a spam module, what would you call it after importing spam?\n",
    "\n",
    "If you had a bacon() function in a spam module, you can call it using dot notation after importing spam."
   ]
  },
  {
   "cell_type": "markdown",
   "id": "979390d8",
   "metadata": {},
   "source": [
    "13. What can you do to save a programme from crashing if it encounters an error?\n",
    "\n",
    "To save a program from crashing if it encounters an error, you can use exception handling."
   ]
  },
  {
   "cell_type": "markdown",
   "id": "d383c889",
   "metadata": {},
   "source": [
    "14. What is the purpose of the try clause? What is the purpose of the except clause?\n",
    "\n",
    "The purpose of the try clause is to enclose code that may raise an exception. The purpose of the except clause is to handle any exceptions that are raised within the try block."
   ]
  },
  {
   "cell_type": "code",
   "execution_count": null,
   "id": "f09953ab",
   "metadata": {},
   "outputs": [],
   "source": []
  }
 ],
 "metadata": {
  "kernelspec": {
   "display_name": "Python 3 (ipykernel)",
   "language": "python",
   "name": "python3"
  },
  "language_info": {
   "codemirror_mode": {
    "name": "ipython",
    "version": 3
   },
   "file_extension": ".py",
   "mimetype": "text/x-python",
   "name": "python",
   "nbconvert_exporter": "python",
   "pygments_lexer": "ipython3",
   "version": "3.9.7"
  }
 },
 "nbformat": 4,
 "nbformat_minor": 5
}
