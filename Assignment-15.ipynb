{
 "cells": [
  {
   "cell_type": "markdown",
   "id": "d2a4d3ad",
   "metadata": {},
   "source": [
    "1. How many seconds are in an hour? Use the interactive interpreter as a calculator and multiply the number of seconds in a minute (60) by the number of minutes in an hour (also 60).\n",
    "```\n",
    "60 * 60 = 3600\n",
    "```\n",
    "There are 3600 seconds in an hour.\n",
    "\n",
    "2. Assign the result from the previous task (seconds in an hour) to a variable called `seconds_per_hour`.\n",
    "```\n",
    "seconds_per_hour = 3600\n",
    "```\n",
    "\n",
    "3. How many seconds do you think there are in a day? Make use of the variables `seconds_per_hour` and `minutes_per_hour`.\n",
    "```\n",
    "minutes_per_hour = 60\n",
    "hours_per_day = 24\n",
    "seconds_per_day = seconds_per_hour * minutes_per_hour * hours_per_day\n",
    "```\n",
    "There are 86400 seconds in a day.\n",
    "\n",
    "4. Calculate `seconds_per_day` again, but this time save the result in a variable called `seconds_per_day`.\n",
    "```\n",
    "seconds_per_day = seconds_per_hour * minutes_per_hour * hours_per_day\n",
    "```\n",
    "\n",
    "5. Divide `seconds_per_day` by `seconds_per_hour`. Use floating-point (/) division.\n",
    "```\n",
    "seconds_per_day / seconds_per_hour = 24.0\n",
    "```\n",
    "The result is 24.0.\n",
    "\n",
    "6. Divide `seconds_per_day` by `seconds_per_hour`, using integer (//) division. Did this number agree with the floating-point value from the previous question, aside from the final .0?\n",
    "```\n",
    "seconds_per_day // seconds_per_hour = 24\n",
    "```\n",
    "Yes, the integer division result agrees with the floating-point value 24.0, except for the decimal point.\n",
    "\n",
    "7. Write a generator, `genPrimes`, that returns the sequence of prime numbers on successive calls to its `next()` method: 2, 3, 5, 7, 11, ...\n",
    "\n",
    "```python\n",
    "def genPrimes():\n",
    "    primes = []\n",
    "    num = 2\n",
    "    while True:\n",
    "        if all(num % prime != 0 for prime in primes):\n",
    "            primes.append(num)\n",
    "            yield num\n",
    "        num += 1\n",
    "\n",
    "# Usage:\n",
    "primes_generator = genPrimes()\n",
    "print(primes_generator.next())  # 2\n",
    "print(primes_generator.next())  # 3\n",
    "print(primes_generator.next())  # 5\n",
    "print(primes_generator.next())  # 7\n",
    "print(primes_generator.next())  # 11\n",
    "...\n",
    "```"
   ]
  },
  {
   "cell_type": "code",
   "execution_count": null,
   "id": "ff9c3f17",
   "metadata": {},
   "outputs": [],
   "source": []
  },
  {
   "cell_type": "code",
   "execution_count": null,
   "id": "dbe22ce5",
   "metadata": {},
   "outputs": [],
   "source": []
  },
  {
   "cell_type": "code",
   "execution_count": null,
   "id": "157b949b",
   "metadata": {},
   "outputs": [],
   "source": []
  },
  {
   "cell_type": "code",
   "execution_count": null,
   "id": "014635ca",
   "metadata": {},
   "outputs": [],
   "source": []
  },
  {
   "cell_type": "code",
   "execution_count": null,
   "id": "23ccf7f1",
   "metadata": {},
   "outputs": [],
   "source": []
  },
  {
   "cell_type": "code",
   "execution_count": null,
   "id": "92ba0f8a",
   "metadata": {},
   "outputs": [],
   "source": []
  },
  {
   "cell_type": "code",
   "execution_count": null,
   "id": "703cb39c",
   "metadata": {},
   "outputs": [],
   "source": []
  },
  {
   "cell_type": "code",
   "execution_count": null,
   "id": "7d238430",
   "metadata": {},
   "outputs": [],
   "source": []
  },
  {
   "cell_type": "code",
   "execution_count": null,
   "id": "e779ef1c",
   "metadata": {},
   "outputs": [],
   "source": []
  },
  {
   "cell_type": "code",
   "execution_count": null,
   "id": "94ed304e",
   "metadata": {},
   "outputs": [],
   "source": []
  },
  {
   "cell_type": "code",
   "execution_count": null,
   "id": "3e6b4610",
   "metadata": {},
   "outputs": [],
   "source": []
  },
  {
   "cell_type": "code",
   "execution_count": null,
   "id": "fa1e2271",
   "metadata": {},
   "outputs": [],
   "source": []
  },
  {
   "cell_type": "code",
   "execution_count": null,
   "id": "cdac6e28",
   "metadata": {},
   "outputs": [],
   "source": []
  },
  {
   "cell_type": "code",
   "execution_count": null,
   "id": "bfa65111",
   "metadata": {},
   "outputs": [],
   "source": []
  },
  {
   "cell_type": "code",
   "execution_count": null,
   "id": "578cac4e",
   "metadata": {},
   "outputs": [],
   "source": []
  }
 ],
 "metadata": {
  "kernelspec": {
   "display_name": "Python 3 (ipykernel)",
   "language": "python",
   "name": "python3"
  },
  "language_info": {
   "codemirror_mode": {
    "name": "ipython",
    "version": 3
   },
   "file_extension": ".py",
   "mimetype": "text/x-python",
   "name": "python",
   "nbconvert_exporter": "python",
   "pygments_lexer": "ipython3",
   "version": "3.9.7"
  }
 },
 "nbformat": 4,
 "nbformat_minor": 5
}
