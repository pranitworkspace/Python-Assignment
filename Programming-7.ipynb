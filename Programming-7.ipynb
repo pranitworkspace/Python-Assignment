{
 "cells": [
  {
   "cell_type": "markdown",
   "id": "d6119182",
   "metadata": {},
   "source": [
    "1. Write a Python Program to find the sum of an array.\n",
    "\n",
    "```python\n",
    "def sum_array(arr):\n",
    "    total = 0\n",
    "    for num in arr:\n",
    "        total += num\n",
    "    return total\n",
    "\n",
    "# Example usage\n",
    "array = [1, 2, 3, 4, 5]\n",
    "print(\"Sum of array:\", sum_array(array))\n",
    "```\n",
    "\n",
    "2. Write a Python Program to find the largest element in an array.\n",
    "\n",
    "```python\n",
    "def find_largest(arr):\n",
    "    largest = arr[0]\n",
    "    for num in arr:\n",
    "        if num > largest:\n",
    "            largest = num\n",
    "    return largest\n",
    "\n",
    "# Example usage\n",
    "array = [4, 9, 2, 7, 5]\n",
    "print(\"Largest element:\", find_largest(array))\n",
    "```\n",
    "\n",
    "3. Write a Python Program for array rotation.\n",
    "\n",
    "```python\n",
    "def rotate_array(arr, rotation):\n",
    "    rotation %= len(arr)\n",
    "    return arr[rotation:] + arr[:rotation]\n",
    "\n",
    "# Example usage\n",
    "array = [1, 2, 3, 4, 5]\n",
    "rotation = 2\n",
    "rotated_array = rotate_array(array, rotation)\n",
    "print(\"Rotated array:\", rotated_array)\n",
    "```\n",
    "\n",
    "4. Write a Python Program to split the array and add the first part to the end.\n",
    "\n",
    "```python\n",
    "def split_and_add(arr, split_index):\n",
    "    return arr[split_index:] + arr[:split_index]\n",
    "\n",
    "# Example usage\n",
    "array = [1, 2, 3, 4, 5]\n",
    "split_index = 2\n",
    "result = split_and_add(array, split_index)\n",
    "print(\"Split and added array:\", result)\n",
    "```\n",
    "\n",
    "5. Write a Python Program to check if a given array is Monotonic.\n",
    "\n",
    "```python\n",
    "def is_monotonic(arr):\n",
    "    increasing = decreasing = True\n",
    "    for i in range(1, len(arr)):\n",
    "        if arr[i] < arr[i - 1]:\n",
    "            increasing = False\n",
    "        if arr[i] > arr[i - 1]:\n",
    "            decreasing = False\n",
    "    return increasing or decreasing\n",
    "\n",
    "# Example usage\n",
    "array1 = [1, 2, 3, 4, 5]  # Monotonic (Increasing)\n",
    "array2 = [5, 4, 3, 2, 1]  # Monotonic (Decreasing)\n",
    "array3 = [1, 3, 2, 4, 5]  # Not Monotonic\n",
    "\n",
    "print(\"Array 1 is monotonic?\", is_monotonic(array1))\n",
    "print(\"Array 2 is monotonic?\", is_monotonic(array2))\n",
    "print(\"Array 3 is monotonic?\", is_monotonic(array3))\n",
    "```"
   ]
  },
  {
   "cell_type": "code",
   "execution_count": null,
   "id": "fe4d72e4",
   "metadata": {},
   "outputs": [],
   "source": []
  },
  {
   "cell_type": "code",
   "execution_count": null,
   "id": "803fa62a",
   "metadata": {},
   "outputs": [],
   "source": []
  },
  {
   "cell_type": "code",
   "execution_count": null,
   "id": "ae6e18f1",
   "metadata": {},
   "outputs": [],
   "source": []
  },
  {
   "cell_type": "code",
   "execution_count": null,
   "id": "8078a710",
   "metadata": {},
   "outputs": [],
   "source": []
  },
  {
   "cell_type": "code",
   "execution_count": null,
   "id": "cf2ed286",
   "metadata": {},
   "outputs": [],
   "source": []
  },
  {
   "cell_type": "code",
   "execution_count": null,
   "id": "f8da3370",
   "metadata": {},
   "outputs": [],
   "source": []
  },
  {
   "cell_type": "code",
   "execution_count": null,
   "id": "c0bd20ef",
   "metadata": {},
   "outputs": [],
   "source": []
  },
  {
   "cell_type": "code",
   "execution_count": null,
   "id": "276fce92",
   "metadata": {},
   "outputs": [],
   "source": []
  },
  {
   "cell_type": "code",
   "execution_count": null,
   "id": "c7d2e8e4",
   "metadata": {},
   "outputs": [],
   "source": []
  },
  {
   "cell_type": "code",
   "execution_count": null,
   "id": "51fc1db3",
   "metadata": {},
   "outputs": [],
   "source": []
  },
  {
   "cell_type": "code",
   "execution_count": null,
   "id": "e2019d9e",
   "metadata": {},
   "outputs": [],
   "source": []
  },
  {
   "cell_type": "code",
   "execution_count": null,
   "id": "52d8b760",
   "metadata": {},
   "outputs": [],
   "source": []
  },
  {
   "cell_type": "code",
   "execution_count": null,
   "id": "beb23e53",
   "metadata": {},
   "outputs": [],
   "source": []
  },
  {
   "cell_type": "code",
   "execution_count": null,
   "id": "03145a5b",
   "metadata": {},
   "outputs": [],
   "source": []
  },
  {
   "cell_type": "code",
   "execution_count": null,
   "id": "c017b2f6",
   "metadata": {},
   "outputs": [],
   "source": []
  },
  {
   "cell_type": "code",
   "execution_count": null,
   "id": "7fd0b6cc",
   "metadata": {},
   "outputs": [],
   "source": []
  }
 ],
 "metadata": {
  "kernelspec": {
   "display_name": "Python 3 (ipykernel)",
   "language": "python",
   "name": "python3"
  },
  "language_info": {
   "codemirror_mode": {
    "name": "ipython",
    "version": 3
   },
   "file_extension": ".py",
   "mimetype": "text/x-python",
   "name": "python",
   "nbconvert_exporter": "python",
   "pygments_lexer": "ipython3",
   "version": "3.9.7"
  }
 },
 "nbformat": 4,
 "nbformat_minor": 5
}
