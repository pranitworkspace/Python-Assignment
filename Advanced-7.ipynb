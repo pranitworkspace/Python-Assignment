{
 "cells": [
  {
   "cell_type": "markdown",
   "id": "f70aecf5",
   "metadata": {},
   "source": [
    "Q1. What is the purpose of the try statement?\n",
    "\n",
    "Q2. What are the two most popular try statement variations?\n",
    "\n",
    "Q3. What is the purpose of the raise statement?\n",
    "\n",
    "Q4. What does the assert statement do, and what other statement is it like?\n",
    "\n",
    "Q5. What is the purpose of the with/as argument, and what other statement is it like?"
   ]
  },
  {
   "cell_type": "markdown",
   "id": "79bba59b",
   "metadata": {},
   "source": [
    "# Solution:-"
   ]
  },
  {
   "cell_type": "markdown",
   "id": "86d43eaa",
   "metadata": {},
   "source": [
    "1. What is the purpose of the try statement?\n",
    "\n",
    "A1. The purpose of the try statement is to define a block of code where an exception might occur. It allows you to handle potential exceptions gracefully by providing an opportunity to catch and handle exceptions that might be raised within the try block.\n",
    "\n",
    "2. What are the two most popular try statement variations?\n",
    "\n",
    "A2. The two most popular try statement variations are:\n",
    "\n",
    "try-except: It allows you to catch and handle specific exceptions that may occur within the try block.\n",
    "try-finally: It ensures that a specific block of code is executed regardless of whether an exception is raised or not. The finally block is executed after the try and except blocks.\n",
    "\n",
    "3. What is the purpose of the raise statement?\n",
    "\n",
    "A3. The purpose of the raise statement is to manually raise an exception. It allows you to explicitly generate exceptions in your code, providing control over the flow of the program when certain conditions are met. You can specify the type of exception to raise and include an optional error message.\n",
    "\n",
    "4. What does the assert statement do, and what other statement is it like?\n",
    "\n",
    "A4. The assert statement is used to assert or validate that a certain condition is true. It takes an expression as an argument and raises an AssertionError if the expression evaluates to False. It is used for debugging and sanity-checking purposes during development. The assert statement is similar to an if statement, but it includes an automatic raise of an exception when the condition is False.\n",
    "\n",
    "5. What is the purpose of the with/as argument, and what other statement is it like?\n",
    "\n",
    "A5. The with/as argument is used to manage resources, such as file streams, in a clean and efficient way. It ensures that resources are properly released and cleaned up, even if exceptions occur. The with statement is similar to a try-finally statement, but it provides a more concise and readable syntax for resource management. It automatically calls the __enter__() method to acquire the resource and __exit__() method to release the resource."
   ]
  },
  {
   "cell_type": "code",
   "execution_count": null,
   "id": "d592b28c",
   "metadata": {},
   "outputs": [],
   "source": []
  },
  {
   "cell_type": "code",
   "execution_count": null,
   "id": "30cafadf",
   "metadata": {},
   "outputs": [],
   "source": []
  },
  {
   "cell_type": "code",
   "execution_count": null,
   "id": "e1d494f5",
   "metadata": {},
   "outputs": [],
   "source": []
  },
  {
   "cell_type": "code",
   "execution_count": null,
   "id": "ee0851ca",
   "metadata": {},
   "outputs": [],
   "source": []
  },
  {
   "cell_type": "code",
   "execution_count": null,
   "id": "3fd2d515",
   "metadata": {},
   "outputs": [],
   "source": []
  },
  {
   "cell_type": "code",
   "execution_count": null,
   "id": "1c61f370",
   "metadata": {},
   "outputs": [],
   "source": []
  },
  {
   "cell_type": "code",
   "execution_count": null,
   "id": "7bbf7fa0",
   "metadata": {},
   "outputs": [],
   "source": []
  },
  {
   "cell_type": "code",
   "execution_count": null,
   "id": "f3ada6ba",
   "metadata": {},
   "outputs": [],
   "source": []
  },
  {
   "cell_type": "code",
   "execution_count": null,
   "id": "78dcc522",
   "metadata": {},
   "outputs": [],
   "source": []
  },
  {
   "cell_type": "code",
   "execution_count": null,
   "id": "8364591c",
   "metadata": {},
   "outputs": [],
   "source": []
  },
  {
   "cell_type": "code",
   "execution_count": null,
   "id": "924634eb",
   "metadata": {},
   "outputs": [],
   "source": []
  },
  {
   "cell_type": "code",
   "execution_count": null,
   "id": "5f43893e",
   "metadata": {},
   "outputs": [],
   "source": []
  },
  {
   "cell_type": "code",
   "execution_count": null,
   "id": "e739f388",
   "metadata": {},
   "outputs": [],
   "source": []
  },
  {
   "cell_type": "code",
   "execution_count": null,
   "id": "d81532e7",
   "metadata": {},
   "outputs": [],
   "source": []
  },
  {
   "cell_type": "code",
   "execution_count": null,
   "id": "af5bdc5d",
   "metadata": {},
   "outputs": [],
   "source": []
  },
  {
   "cell_type": "code",
   "execution_count": null,
   "id": "168dc978",
   "metadata": {},
   "outputs": [],
   "source": []
  },
  {
   "cell_type": "code",
   "execution_count": null,
   "id": "f120012f",
   "metadata": {},
   "outputs": [],
   "source": []
  },
  {
   "cell_type": "code",
   "execution_count": null,
   "id": "cfaccdc4",
   "metadata": {},
   "outputs": [],
   "source": []
  },
  {
   "cell_type": "code",
   "execution_count": null,
   "id": "14085840",
   "metadata": {},
   "outputs": [],
   "source": []
  },
  {
   "cell_type": "code",
   "execution_count": null,
   "id": "8adb34c9",
   "metadata": {},
   "outputs": [],
   "source": []
  }
 ],
 "metadata": {
  "kernelspec": {
   "display_name": "Python 3 (ipykernel)",
   "language": "python",
   "name": "python3"
  },
  "language_info": {
   "codemirror_mode": {
    "name": "ipython",
    "version": 3
   },
   "file_extension": ".py",
   "mimetype": "text/x-python",
   "name": "python",
   "nbconvert_exporter": "python",
   "pygments_lexer": "ipython3",
   "version": "3.9.7"
  }
 },
 "nbformat": 4,
 "nbformat_minor": 5
}
