{
 "cells": [
  {
   "cell_type": "markdown",
   "id": "d0b6b423",
   "metadata": {},
   "source": [
    "1. To create a `zoo.py` file with the `hours()` function defined:\n",
    "```python\n",
    "# zoo.py\n",
    "def hours():\n",
    "    print('Open 9-5 daily')\n",
    "```\n",
    "In the interactive interpreter, you can import the `zoo` module and call its `hours()` function:\n",
    "```python\n",
    ">>> import zoo\n",
    ">>> zoo.hours()\n",
    "Open 9-5 daily\n",
    "```\n",
    "\n",
    "2. In the interactive interpreter, you can import the `zoo` module as `menagerie` and call its `hours()` function:\n",
    "```python\n",
    ">>> import zoo as menagerie\n",
    ">>> menagerie.hours()\n",
    "Open 9-5 daily\n",
    "```\n",
    "\n",
    "3. Using the interpreter, you can explicitly import and call the `hours()` function from `zoo`:\n",
    "```python\n",
    ">>> from zoo import hours\n",
    ">>> hours()\n",
    "Open 9-5 daily\n",
    "```\n",
    "\n",
    "4. You can import the `hours()` function as `info` and call it:\n",
    "```python\n",
    ">>> from zoo import hours as info\n",
    ">>> info()\n",
    "Open 9-5 daily\n",
    "```\n",
    "\n",
    "5. To create a plain dictionary with the key-value pairs `'a': 1`, `'b': 2`, and `'c': 3`, and print it out:\n",
    "```python\n",
    ">>> my_dict = {'a': 1, 'b': 2, 'c': 3}\n",
    ">>> print(my_dict)\n",
    "{'a': 1, 'b': 2, 'c': 3}\n",
    "```\n",
    "\n",
    "6. To create an OrderedDict called `fancy` from the same key-value pairs and print it:\n",
    "```python\n",
    ">>> from collections import OrderedDict\n",
    ">>> fancy = OrderedDict([('a', 1), ('b', 2), ('c', 3)])\n",
    ">>> print(fancy)\n",
    "OrderedDict([('a', 1), ('b', 2), ('c', 3)])\n",
    "```\n",
    "Yes, the `OrderedDict` will print in the same order as the plain dictionary because an `OrderedDict` maintains the insertion order of the keys.\n",
    "\n",
    "7. To create a defaultdict called `dict_of_lists` and add the value `'something for a'` to the list `dict_of_lists['a']` in one assignment, then print `dict_of_lists['a']`:\n",
    "```python\n",
    ">>> from collections import defaultdict\n",
    ">>> dict_of_lists = defaultdict(list)\n",
    ">>> dict_of_lists['a'].append('something for a')\n",
    ">>> print(dict_of_lists['a'])\n",
    "['something for a']\n",
    "```\n",
    "The output will be `['something for a']`."
   ]
  },
  {
   "cell_type": "code",
   "execution_count": null,
   "id": "36d216c9",
   "metadata": {},
   "outputs": [],
   "source": []
  },
  {
   "cell_type": "code",
   "execution_count": null,
   "id": "f7df79ef",
   "metadata": {},
   "outputs": [],
   "source": []
  },
  {
   "cell_type": "code",
   "execution_count": null,
   "id": "1d0ab3e0",
   "metadata": {},
   "outputs": [],
   "source": []
  },
  {
   "cell_type": "code",
   "execution_count": null,
   "id": "243fd0a9",
   "metadata": {},
   "outputs": [],
   "source": []
  },
  {
   "cell_type": "code",
   "execution_count": null,
   "id": "5e464514",
   "metadata": {},
   "outputs": [],
   "source": []
  },
  {
   "cell_type": "code",
   "execution_count": null,
   "id": "ab57c0c2",
   "metadata": {},
   "outputs": [],
   "source": []
  },
  {
   "cell_type": "code",
   "execution_count": null,
   "id": "14bf8d8e",
   "metadata": {},
   "outputs": [],
   "source": []
  },
  {
   "cell_type": "code",
   "execution_count": null,
   "id": "3fd68c77",
   "metadata": {},
   "outputs": [],
   "source": []
  },
  {
   "cell_type": "code",
   "execution_count": null,
   "id": "0a3f6884",
   "metadata": {},
   "outputs": [],
   "source": []
  },
  {
   "cell_type": "code",
   "execution_count": null,
   "id": "5df46314",
   "metadata": {},
   "outputs": [],
   "source": []
  },
  {
   "cell_type": "code",
   "execution_count": null,
   "id": "78dd60fb",
   "metadata": {},
   "outputs": [],
   "source": []
  },
  {
   "cell_type": "code",
   "execution_count": null,
   "id": "cf84ea17",
   "metadata": {},
   "outputs": [],
   "source": []
  },
  {
   "cell_type": "code",
   "execution_count": null,
   "id": "14343bdd",
   "metadata": {},
   "outputs": [],
   "source": []
  },
  {
   "cell_type": "code",
   "execution_count": null,
   "id": "ccf3dcd4",
   "metadata": {},
   "outputs": [],
   "source": []
  },
  {
   "cell_type": "code",
   "execution_count": null,
   "id": "ed95249d",
   "metadata": {},
   "outputs": [],
   "source": []
  }
 ],
 "metadata": {
  "kernelspec": {
   "display_name": "Python 3 (ipykernel)",
   "language": "python",
   "name": "python3"
  },
  "language_info": {
   "codemirror_mode": {
    "name": "ipython",
    "version": 3
   },
   "file_extension": ".py",
   "mimetype": "text/x-python",
   "name": "python",
   "nbconvert_exporter": "python",
   "pygments_lexer": "ipython3",
   "version": "3.9.7"
  }
 },
 "nbformat": 4,
 "nbformat_minor": 5
}
