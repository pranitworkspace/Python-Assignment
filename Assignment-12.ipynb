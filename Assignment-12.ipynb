{
 "cells": [
  {
   "cell_type": "markdown",
   "id": "9a27a97c",
   "metadata": {},
   "source": [
    "1. In what modes should the PdfFileReader() and PdfFileWriter() File objects be opened?\n",
    "- The PdfFileReader() should be opened in 'rb' mode (read-binary mode).\n",
    "- The PdfFileWriter() should be opened in 'wb' mode (write-binary mode).\n",
    "\n",
    "2. From a PdfFileReader object, how do you get a Page object for page 5?\n",
    "- You can get a Page object for page 5 from a PdfFileReader object using the `getPage()` method, passing the page number (index-based, starting from 0) as an argument. So, to get a Page object for page 5, you would use `pdf_reader.getPage(4)`.\n",
    "\n",
    "3. What PdfFileReader variable stores the number of pages in the PDF document?\n",
    "- The number of pages in the PDF document is stored in the `numPages` variable of the PdfFileReader object. You can access it using `pdf_reader.numPages`.\n",
    "\n",
    "4. If a PdfFileReader object's PDF is encrypted with the password 'swordfish', what must you do before you can obtain Page objects from it?\n",
    "- Before obtaining Page objects from an encrypted PDF using a PdfFileReader object, you need to decrypt the PDF by calling the `decrypt('swordfish')` method on the PdfFileReader object, passing the correct password as an argument.\n",
    "\n",
    "5. What methods do you use to rotate a page?\n",
    "- To rotate a page in a PdfFileWriter object, you can use the `rotateClockwise()` and `rotateCounterClockwise()` methods. These methods allow you to rotate a page by 90 degrees clockwise or counterclockwise, respectively.\n",
    "\n",
    "6. What is the difference between a Run object and a Paragraph object?\n",
    "- In the context of the python-docx library, a Run object represents a contiguous run of text with the same character formatting within a paragraph. It can contain different font styles, sizes, and colors within a single paragraph.\n",
    "- A Paragraph object represents a single paragraph of text. It can contain one or more Run objects and allows you to apply paragraph-level formatting such as alignment, indentation, and spacing.\n",
    "\n",
    "7. How do you obtain a list of Paragraph objects for a Document object that's stored in a variable named doc?\n",
    "- To obtain a list of Paragraph objects for a Document object, you can access the `paragraphs` attribute of the Document object. It will return a list of Paragraph objects representing the paragraphs in the document. In this case, you can use `doc.paragraphs` to get the list of Paragraph objects.\n",
    "\n",
    "8. What type of object has bold, underline, italic, strike, and outline variables?\n",
    "- The Run object in python-docx has the bold, underline, italic, strike, and outline variables. These variables allow you to control the formatting of the text within a Run object.\n",
    "\n",
    "9. What is the difference between False, True, and None for the bold variable?\n",
    "- In the context of the bold variable in python-docx:\n",
    "  - False means the text is not bold.\n",
    "  - True means the text is bold.\n",
    "  - None means the text retains its original bold formatting.\n",
    "\n",
    "10. How do you create a Document object for a new Word document?\n",
    "- To create a Document object for a new Word document, you can use the `Document()` constructor without any arguments. For example, `doc = Document()` creates an empty Document object.\n",
    "\n",
    "11. How do you add a paragraph with the text 'Hello, there!' to a Document object stored in a variable named doc?\n",
    "- To add a paragraph with the text 'Hello, there!' to a Document object, you can use the `add_paragraph()` method of the Document object. Here's an example:\n",
    "  ```\n",
    "  doc.add_paragraph('Hello, there!')\n",
    "  ```\n",
    "\n",
    "12. What integers represent the levels of headings available in Word documents?\n",
    "- In Word documents, the levels of headings are represented by integers from 1 to 9. Heading level 1 is the highest and heading level 9 is the lowest."
   ]
  },
  {
   "cell_type": "code",
   "execution_count": null,
   "id": "67fb036b",
   "metadata": {},
   "outputs": [],
   "source": []
  },
  {
   "cell_type": "code",
   "execution_count": null,
   "id": "6d4e3852",
   "metadata": {},
   "outputs": [],
   "source": []
  },
  {
   "cell_type": "code",
   "execution_count": null,
   "id": "b8bb8b02",
   "metadata": {},
   "outputs": [],
   "source": []
  },
  {
   "cell_type": "code",
   "execution_count": null,
   "id": "684ec535",
   "metadata": {},
   "outputs": [],
   "source": []
  },
  {
   "cell_type": "code",
   "execution_count": null,
   "id": "b287629c",
   "metadata": {},
   "outputs": [],
   "source": []
  },
  {
   "cell_type": "code",
   "execution_count": null,
   "id": "5a768349",
   "metadata": {},
   "outputs": [],
   "source": []
  },
  {
   "cell_type": "code",
   "execution_count": null,
   "id": "7e910d3d",
   "metadata": {},
   "outputs": [],
   "source": []
  },
  {
   "cell_type": "code",
   "execution_count": null,
   "id": "e3ab425d",
   "metadata": {},
   "outputs": [],
   "source": []
  },
  {
   "cell_type": "code",
   "execution_count": null,
   "id": "439f1524",
   "metadata": {},
   "outputs": [],
   "source": []
  },
  {
   "cell_type": "code",
   "execution_count": null,
   "id": "1021d594",
   "metadata": {},
   "outputs": [],
   "source": []
  },
  {
   "cell_type": "code",
   "execution_count": null,
   "id": "fec885ac",
   "metadata": {},
   "outputs": [],
   "source": []
  }
 ],
 "metadata": {
  "kernelspec": {
   "display_name": "Python 3 (ipykernel)",
   "language": "python",
   "name": "python3"
  },
  "language_info": {
   "codemirror_mode": {
    "name": "ipython",
    "version": 3
   },
   "file_extension": ".py",
   "mimetype": "text/x-python",
   "name": "python",
   "nbconvert_exporter": "python",
   "pygments_lexer": "ipython3",
   "version": "3.9.7"
  }
 },
 "nbformat": 4,
 "nbformat_minor": 5
}
