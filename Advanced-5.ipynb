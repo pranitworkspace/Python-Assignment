{
 "cells": [
  {
   "cell_type": "markdown",
   "id": "f37ff0aa",
   "metadata": {},
   "source": [
    "Q1. What is the meaning of multiple inheritance?\n",
    "\n",
    "Q2. What is the concept of delegation?\n",
    "\n",
    "Q3. What is the concept of composition?\n",
    "\n",
    "Q4. What are bound methods and how do we use them?\n",
    "\n",
    "Q5. What is the purpose of pseudoprivate attributes?"
   ]
  },
  {
   "cell_type": "markdown",
   "id": "bb4d1d8f",
   "metadata": {},
   "source": [
    "# Solution:-"
   ]
  },
  {
   "cell_type": "markdown",
   "id": "ac9c99ba",
   "metadata": {},
   "source": [
    "1. What is the meaning of multiple inheritance?\n",
    "\n",
    "A1. Multiple inheritance refers to the ability of a class to inherit attributes and methods from more than one parent class. In languages that support multiple inheritance, a class can inherit from multiple base classes, allowing it to inherit and combine the behaviors and characteristics of those classes.\n",
    "\n",
    "2. What is the concept of delegation?\n",
    "\n",
    "A2. Delegation is a design pattern where an object forwards a specific behavior or responsibility to another object. Instead of implementing the behavior itself, the delegating object relies on the delegated object to perform the task. This promotes code reusability and allows objects to collaborate by sharing responsibilities.\n",
    "\n",
    "3. What is the concept of composition?\n",
    "\n",
    "A3. Composition is a design principle where complex objects are created by combining simpler objects. In composition, an object is made up of other objects, which are referred to as its components or parts. The composed object can delegate certain tasks to its components and use them to provide its functionality.\n",
    "\n",
    "4. What are bound methods and how do we use them?\n",
    "\n",
    "A4. Bound methods are methods that are associated with a specific instance of a class. When a method is called on an instance, it automatically passes the instance as the first argument (usually named self) to the method. This allows the method to access and manipulate the instance's data. Bound methods are commonly used to define the behavior of an object and interact with its state.\n",
    "\n",
    "5. What is the purpose of pseudoprivate attributes?\n",
    "\n",
    "A5. Pseudoprivate attributes are a convention in programming languages like Python that allows developers to indicate that an attribute should be treated as private, even though the language does not provide native support for private attributes. By prefixing an attribute name with double underscores (e.g., __attribute), it signals that the attribute should not be accessed or modified directly from outside the class. Pseudoprivate attributes help encapsulate implementation details and prevent unintentional modification of internal state.\n",
    "\n",
    "\n",
    "\n",
    "\n",
    "\n",
    "\n"
   ]
  },
  {
   "cell_type": "code",
   "execution_count": null,
   "id": "ecea591f",
   "metadata": {},
   "outputs": [],
   "source": []
  },
  {
   "cell_type": "code",
   "execution_count": null,
   "id": "c71ddbbc",
   "metadata": {},
   "outputs": [],
   "source": []
  },
  {
   "cell_type": "code",
   "execution_count": null,
   "id": "23742425",
   "metadata": {},
   "outputs": [],
   "source": []
  },
  {
   "cell_type": "code",
   "execution_count": null,
   "id": "4f12cadf",
   "metadata": {},
   "outputs": [],
   "source": []
  },
  {
   "cell_type": "code",
   "execution_count": null,
   "id": "3192ee48",
   "metadata": {},
   "outputs": [],
   "source": []
  },
  {
   "cell_type": "code",
   "execution_count": null,
   "id": "6e1d392f",
   "metadata": {},
   "outputs": [],
   "source": []
  },
  {
   "cell_type": "code",
   "execution_count": null,
   "id": "d117e071",
   "metadata": {},
   "outputs": [],
   "source": []
  },
  {
   "cell_type": "code",
   "execution_count": null,
   "id": "64bfaf05",
   "metadata": {},
   "outputs": [],
   "source": []
  },
  {
   "cell_type": "code",
   "execution_count": null,
   "id": "bc00fbff",
   "metadata": {},
   "outputs": [],
   "source": []
  },
  {
   "cell_type": "code",
   "execution_count": null,
   "id": "8c45c88f",
   "metadata": {},
   "outputs": [],
   "source": []
  },
  {
   "cell_type": "code",
   "execution_count": null,
   "id": "27bebf30",
   "metadata": {},
   "outputs": [],
   "source": []
  }
 ],
 "metadata": {
  "kernelspec": {
   "display_name": "Python 3 (ipykernel)",
   "language": "python",
   "name": "python3"
  },
  "language_info": {
   "codemirror_mode": {
    "name": "ipython",
    "version": 3
   },
   "file_extension": ".py",
   "mimetype": "text/x-python",
   "name": "python",
   "nbconvert_exporter": "python",
   "pygments_lexer": "ipython3",
   "version": "3.9.7"
  }
 },
 "nbformat": 4,
 "nbformat_minor": 5
}
