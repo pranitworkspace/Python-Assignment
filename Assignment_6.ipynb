{
 "cells": [
  {
   "cell_type": "markdown",
   "id": "00ad8350",
   "metadata": {},
   "source": [
    "1. What are escape characters, and how do you use them?\n",
    "2. What do the escape characters n and t stand for?\n",
    "3. What is the way to include backslash characters in a string?\n",
    "4. The string &quot;Howl&#39;s Moving Castle&quot; is a correct value. Why isn&#39;t the single quote character in the\n",
    "word Howl&#39;s not escaped a problem?\n",
    "5. How do you write a string of newlines if you don&#39;t want to use the n character?\n",
    "6. What are the values of the given expressions?\n",
    "&#39;Hello, world!&#39;[1]\n",
    "&#39;Hello, world!&#39;[0:5]\n",
    "&#39;Hello, world!&#39;[:5]\n",
    "&#39;Hello, world!&#39;[3:]\n",
    "\n",
    "7. What are the values of the following expressions?\n",
    "&#39;Hello&#39;.upper()\n",
    "&#39;Hello&#39;.upper().isupper()\n",
    "&#39;Hello&#39;.upper().lower()\n",
    "8. What are the values of the following expressions?\n",
    "&#39;Remember, remember, the fifth of July.&#39;.split()\n",
    "&#39;-&#39;.join(&#39;There can only one.&#39;.split())\n",
    "9. What are the methods for right-justifying, left-justifying, and centering a string?\n",
    "10. What is the best way to remove whitespace characters from the start or end?"
   ]
  },
  {
   "cell_type": "markdown",
   "id": "fd6fb4bf",
   "metadata": {},
   "source": [
    "# Solution:-"
   ]
  },
  {
   "cell_type": "markdown",
   "id": "4810da06",
   "metadata": {},
   "source": [
    "1. What are escape characters, and how do you use them?\n",
    "\n",
    "Escape characters are characters in a string that have a special meaning and are represented by a backslash () followed by a specific character. They are used to represent characters that cannot be typed directly into a string, such as newlines, tabs, or quotes.\n",
    "\n",
    "2. What do the escape characters n and t stand for?\n",
    "\n",
    "The escape character \\n stands for a newline, and \\t stands for a tab.\n",
    "\n",
    "3. What is the way to include backslash characters in a string?\n",
    "\n",
    "To include a backslash character in a string, you need to use a double backslash (\\).\n",
    "\n",
    "4. The string \"Howl's Moving Castle\" is a correct value. Why isn't the single quote character in the word Howl's not escaped a problem?\n",
    "\n",
    "The single quote character in the word \"Howl's\" is not a problem because the string is enclosed in double quotes. If the string was enclosed in single quotes, the single quote character in \"Howl's\" would need to be escaped with a backslash.\n",
    "\n",
    "5. How do you write a string of newlines if you don't want to use the n character?\n",
    "\n",
    "You can write a string of newlines by using the string concatenation operator (+) and the newline character (\\n) multiple times. For example, \"line1\\nline2\\nline3\" can be written as \"line1\" + \"\\n\" + \"line2\" + \"\\n\" + \"line3\".\n",
    "\n",
    "6. What are the values of the given expressions?\n",
    "\n",
    "\"Hello, world!\"[1] = \"e\"\n",
    "\"Hello, world!\"[0:5] = \"Hello\"\n",
    "\"Hello, world!\"[:5] = \"Hello\"\n",
    "\"Hello, world!\"[3:] = \"lo, world!\"\n",
    "\n",
    "7. What are the values of the following expressions?\n",
    "\n",
    "\"Hello\".upper() = \"HELLO\"\n",
    "\"Hello\".upper().isupper() = True\n",
    "\"Hello\".upper().lower() = \"hello\"\n",
    "\n",
    "8. What are the values of the following expressions?\n",
    "\n",
    "\"Remember, remember, the fifth of July.\".split() = [\"Remember,\", \"remember,\", \"the\", \"fifth\", \"of\", \"July.\"]\n",
    "\"-\".join(\"There can only one.\".split()) = \"There-can-only-one.\"\n",
    "\n",
    "9. What are the methods for right-justifying, left-justifying, and centering a string?\n",
    "The methods for justifying a string are:\n",
    "\n",
    "right-justifying: str.rjust(width, fillchar)\n",
    "left-justifying: str.ljust(width, fillchar)\n",
    "centering: str.center(width, fillchar)\n",
    "In each method, width is the total width of the justified string, and fillchar is the character used for padding.\n",
    "\n",
    "10. What is the best way to remove whitespace characters from the start or end?\n",
    "\n",
    "The best way to remove whitespace characters from the start or end of a string is to use the strip() method. For example, \" hello world \".strip() will return \"hello world\". \n"
   ]
  },
  {
   "cell_type": "code",
   "execution_count": null,
   "id": "2749ecaf",
   "metadata": {},
   "outputs": [],
   "source": []
  },
  {
   "cell_type": "code",
   "execution_count": null,
   "id": "c65d3ec7",
   "metadata": {},
   "outputs": [],
   "source": []
  }
 ],
 "metadata": {
  "kernelspec": {
   "display_name": "Python 3 (ipykernel)",
   "language": "python",
   "name": "python3"
  },
  "language_info": {
   "codemirror_mode": {
    "name": "ipython",
    "version": 3
   },
   "file_extension": ".py",
   "mimetype": "text/x-python",
   "name": "python",
   "nbconvert_exporter": "python",
   "pygments_lexer": "ipython3",
   "version": "3.9.7"
  }
 },
 "nbformat": 4,
 "nbformat_minor": 5
}
