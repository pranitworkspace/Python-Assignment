{
 "cells": [
  {
   "cell_type": "code",
   "execution_count": null,
   "id": "c611ee9d",
   "metadata": {},
   "outputs": [],
   "source": [
    "1.What are the two values of the Boolean data type? How do you write them?\n",
    "2. What are the three different types of Boolean operators?\n",
    "3. Make a list of each Boolean operator&#39;s truth tables (i.e. every possible combination of Boolean\n",
    "values for the operator and what it evaluate ).\n",
    "4. What are the values of the following expressions?\n",
    "(5 &gt; 4) and (3 == 5)\n",
    "not (5 &gt; 4)\n",
    "(5 &gt; 4) or (3 == 5)\n",
    "not ((5 &gt; 4) or (3 == 5))\n",
    "(True and True) and (True == False)\n",
    "(not False) or (not True)\n",
    "5. What are the six comparison operators?\n",
    "6. How do you tell the difference between the equal to and assignment operators?Describe a\n",
    "condition and when you would use one.\n",
    "7. Identify the three blocks in this code:\n",
    "spam = 0\n",
    "if spam == 10:\n",
    "print(&#39;eggs&#39;)\n",
    "if spam &gt; 5:\n",
    "print(&#39;bacon&#39;)\n",
    "else:\n",
    "print(&#39;ham&#39;)\n",
    "print(&#39;spam&#39;)\n",
    "print(&#39;spam&#39;)\n",
    "8. Write code that prints Hello if 1 is stored in spam, prints Howdy if 2 is stored in spam, and prints\n",
    "Greetings! if anything else is stored in spam.\n",
    "\n",
    "9.If your programme is stuck in an endless loop, what keys you’ll press?\n",
    "10. How can you tell the difference between break and continue?\n",
    "11. In a for loop, what is the difference between range(10), range(0, 10), and range(0, 10, 1)?\n",
    "12. Write a short program that prints the numbers 1 to 10 using a for loop. Then write an equivalent\n",
    "program that prints the numbers 1 to 10 using a while loop.\n",
    "13. If you had a function named bacon() inside a module named spam, how would you call it after\n",
    "importing spam?"
   ]
  },
  {
   "cell_type": "markdown",
   "id": "15db4b6f",
   "metadata": {},
   "source": [
    "# Solutions:-"
   ]
  },
  {
   "cell_type": "markdown",
   "id": "ca49e61c",
   "metadata": {},
   "source": [
    "1. What are the two values of the Boolean data type? How do you write them?"
   ]
  },
  {
   "cell_type": "markdown",
   "id": "634f42b0",
   "metadata": {},
   "source": [
    "True \n",
    "False"
   ]
  },
  {
   "cell_type": "markdown",
   "id": "6ddb6ef7",
   "metadata": {},
   "source": [
    "print(bool(0)) = False"
   ]
  },
  {
   "cell_type": "markdown",
   "id": "009eb4dc",
   "metadata": {},
   "source": [
    "print(bool(1)) = True"
   ]
  },
  {
   "cell_type": "markdown",
   "id": "abeec1ed",
   "metadata": {},
   "source": [
    "2. What are the three different types of Boolean operators?"
   ]
  },
  {
   "cell_type": "markdown",
   "id": "e9ad162c",
   "metadata": {},
   "source": [
    " or, not, and"
   ]
  },
  {
   "cell_type": "markdown",
   "id": "09db0512",
   "metadata": {},
   "source": [
    "3. Make a list of each Boolean operator&#39;s truth tables (i.e. every possible combination of Boolean values for the operator and what it evaluate )."
   ]
  },
  {
   "cell_type": "markdown",
   "id": "b747c7b4",
   "metadata": {},
   "source": [
    "<!-- And operator:-\n",
    "\n",
    "Operand 1\tOperand 2\tResult\n",
    "True\tTrue\tTrue\n",
    "True\tFalse\tFalse\n",
    "False\tTrue\tFalse\n",
    "False\tFalse\tFalse\n",
    "\n",
    "Or operator:-\n",
    "\n",
    "Operand 1\tOperand 2\tResult\n",
    "True\tTrue\tTrue\n",
    "True\tFalse\tTrue\n",
    "False\tTrue\tTrue\n",
    "False\tFalse\tFalse\n",
    "\n",
    "Not operator:-\n",
    "\n",
    "Operand\tResult\n",
    "True\tFalse\n",
    "False\tTrue -->"
   ]
  },
  {
   "cell_type": "code",
   "execution_count": 4,
   "id": "7677b109",
   "metadata": {},
   "outputs": [],
   "source": [
    "# And operator:-\n",
    "\n",
    "# Operand 1\tOperand 2\tResult\n",
    "# True\tTrue\tTrue\n",
    "# True\tFalse\tFalse\n",
    "# False\tTrue\tFalse\n",
    "# False\tFalse\tFalse\n",
    "\n",
    "# Or operator:-\n",
    "\n",
    "# Operand 1\tOperand 2\tResult\n",
    "# True\tTrue\tTrue\n",
    "# True\tFalse\tTrue\n",
    "# False\tTrue\tTrue\n",
    "# False\tFalse\tFalse\n",
    "\n",
    "# Not operator:\n",
    "\n",
    "# Operand\tResult\n",
    "# True\tFalse\n",
    "# False\tTrue"
   ]
  },
  {
   "cell_type": "markdown",
   "id": "19fb6d09",
   "metadata": {},
   "source": [
    "4. What are the values of the following expressions?"
   ]
  },
  {
   "cell_type": "markdown",
   "id": "5cddaaf2",
   "metadata": {},
   "source": [
    "(5 &gt; 4) and (3 == 5) --> False"
   ]
  },
  {
   "cell_type": "markdown",
   "id": "2c082bbb",
   "metadata": {},
   "source": [
    "not (5 &gt; 4)-->False"
   ]
  },
  {
   "cell_type": "markdown",
   "id": "7737e8fb",
   "metadata": {},
   "source": [
    "(5 &gt; 4) or (3 == 5)-->True"
   ]
  },
  {
   "cell_type": "markdown",
   "id": "ded41792",
   "metadata": {},
   "source": [
    "not ((5 &gt; 4) or (3 == 5))-->False"
   ]
  },
  {
   "cell_type": "markdown",
   "id": "1209bdcd",
   "metadata": {},
   "source": [
    "(True and True) and (True == False)-->False"
   ]
  },
  {
   "cell_type": "markdown",
   "id": "4babba1c",
   "metadata": {},
   "source": [
    "(not False) or (not True)-->True"
   ]
  },
  {
   "cell_type": "markdown",
   "id": "97bb406a",
   "metadata": {},
   "source": [
    "5. What are the six comparison operators?"
   ]
  },
  {
   "cell_type": "code",
   "execution_count": 6,
   "id": "4f81035c",
   "metadata": {},
   "outputs": [],
   "source": [
    "#> Greater than\n",
    "#< Less than\n",
    "#>= Greater than or equal to\n",
    "#<= Less than or equal to\n",
    "#== Equal to\n",
    "#!= Not equal to"
   ]
  },
  {
   "cell_type": "markdown",
   "id": "c34b3fc8",
   "metadata": {},
   "source": [
    "6. How do you tell the difference between the equal to and assignment operators?Describe a condition and when you would use one."
   ]
  },
  {
   "cell_type": "markdown",
   "id": "206e8e61",
   "metadata": {},
   "source": [
    "In Python, the = operator is used for assignment, while the == operator is used for equality comparison. The assignment operator (=) is used to assign a value to a variable."
   ]
  },
  {
   "cell_type": "markdown",
   "id": "64bb669e",
   "metadata": {},
   "source": [
    "7. Identify the three blocks in this code:"
   ]
  },
  {
   "cell_type": "markdown",
   "id": "bf0a9ab5",
   "metadata": {},
   "source": [
    "spam = 0 # Block 1 Starts here\n",
    "if spam == 10:\n",
    "print(&#39;eggs&#39;)\n",
    "if spam &gt; 5:# Block 2 Starts here\n",
    "print(&#39;bacon&#39;)\n",
    "else: # Block 3 Starts here\n",
    "print(&#39;ham&#39;)\n",
    "print(&#39;spam&#39;)\n",
    "print(&#39;spam&#39;)"
   ]
  },
  {
   "cell_type": "markdown",
   "id": "20493a1f",
   "metadata": {},
   "source": [
    "8. Write code that prints Hello if 1 is stored in spam, prints Howdy if 2 is stored in spam, and prints Greetings! if anything else is stored in spam."
   ]
  },
  {
   "cell_type": "code",
   "execution_count": 19,
   "id": "a351cfa5",
   "metadata": {},
   "outputs": [
    {
     "name": "stdout",
     "output_type": "stream",
     "text": [
      "Enter the number:3\n",
      "Greetings\n"
     ]
    }
   ],
   "source": [
    "spam = int(input(\"Enter the number:\"))\n",
    "if spam ==1:\n",
    "    print('Hello')\n",
    "elif spam ==2:\n",
    "    print('Howdy')\n",
    "else:\n",
    "    print('Greetings')"
   ]
  },
  {
   "cell_type": "markdown",
   "id": "2cf4c409",
   "metadata": {},
   "source": [
    "9.If your programme is stuck in an endless loop, what keys you’ll press?"
   ]
  },
  {
   "cell_type": "markdown",
   "id": "88dda027",
   "metadata": {},
   "source": [
    " press the Ctrl + C keys"
   ]
  },
  {
   "cell_type": "markdown",
   "id": "eab60e44",
   "metadata": {},
   "source": [
    "10. How can you tell the difference between break and continue?"
   ]
  },
  {
   "cell_type": "markdown",
   "id": "235d0c0c",
   "metadata": {},
   "source": [
    "difference between break and continue is that break is used to exit a loop entirely, while continue is used to skip the current iteration of the loop and move on to the next iteration."
   ]
  },
  {
   "cell_type": "markdown",
   "id": "7ce950d8",
   "metadata": {},
   "source": [
    "11. In a for loop, what is the difference between range(10), range(0, 10), and range(0, 10, 1)?"
   ]
  },
  {
   "cell_type": "markdown",
   "id": "e7e71e17",
   "metadata": {},
   "source": [
    "range(10) - This generates a sequence of numbers from 0 to 9. It's equivalent to range(0, 10, 1), where start is omitted and step is 1 by default.\n",
    "\n",
    "range(0, 10) - This generates a sequence of numbers from 0 to 9. The start argument is 0, and the stop argument is 10. The step argument is omitted and defaults to 1.\n",
    "\n",
    "range(0, 10, 1) - This also generates a sequence of numbers from 0 to 9, with start equal to 0, stop equal to 10, and step equal to 1"
   ]
  },
  {
   "cell_type": "markdown",
   "id": "b56def2f",
   "metadata": {},
   "source": [
    "12. Write a short program that prints the numbers 1 to 10 using a for loop. Then write an equivalent program that prints the numbers 1 to 10 using a while loop."
   ]
  },
  {
   "cell_type": "code",
   "execution_count": 20,
   "id": "ca4ea1e1",
   "metadata": {},
   "outputs": [
    {
     "name": "stdout",
     "output_type": "stream",
     "text": [
      "1\n",
      "2\n",
      "3\n",
      "4\n",
      "5\n",
      "6\n",
      "7\n",
      "8\n",
      "9\n",
      "10\n"
     ]
    }
   ],
   "source": [
    "#For Loop\n",
    "for i in range(1,11):\n",
    "    print(i)"
   ]
  },
  {
   "cell_type": "code",
   "execution_count": 22,
   "id": "71279f7c",
   "metadata": {},
   "outputs": [
    {
     "name": "stdout",
     "output_type": "stream",
     "text": [
      "1\n",
      "2\n",
      "3\n",
      "4\n",
      "5\n",
      "6\n",
      "7\n",
      "8\n",
      "9\n",
      "10\n"
     ]
    }
   ],
   "source": [
    "# while loop\n",
    "i = 1\n",
    "while i<=10:\n",
    "    print(i)\n",
    "    i += 1"
   ]
  },
  {
   "cell_type": "markdown",
   "id": "64000d08",
   "metadata": {},
   "source": [
    "13. If you had a function named bacon() inside a module named spam, how would you call it after\n",
    "importing spam?"
   ]
  },
  {
   "cell_type": "code",
   "execution_count": null,
   "id": "94a30c92",
   "metadata": {},
   "outputs": [],
   "source": [
    "import spam\n",
    "spam.bacon()"
   ]
  },
  {
   "cell_type": "code",
   "execution_count": null,
   "id": "09a9729a",
   "metadata": {},
   "outputs": [],
   "source": []
  },
  {
   "cell_type": "code",
   "execution_count": null,
   "id": "de271edf",
   "metadata": {},
   "outputs": [],
   "source": []
  },
  {
   "cell_type": "code",
   "execution_count": null,
   "id": "1e34fbad",
   "metadata": {},
   "outputs": [],
   "source": []
  },
  {
   "cell_type": "code",
   "execution_count": null,
   "id": "446f593a",
   "metadata": {},
   "outputs": [],
   "source": []
  },
  {
   "cell_type": "code",
   "execution_count": null,
   "id": "32eb4229",
   "metadata": {},
   "outputs": [],
   "source": []
  },
  {
   "cell_type": "code",
   "execution_count": null,
   "id": "4ba829c7",
   "metadata": {},
   "outputs": [],
   "source": []
  },
  {
   "cell_type": "code",
   "execution_count": null,
   "id": "c308f0fa",
   "metadata": {},
   "outputs": [],
   "source": []
  },
  {
   "cell_type": "code",
   "execution_count": null,
   "id": "795f59c9",
   "metadata": {},
   "outputs": [],
   "source": []
  },
  {
   "cell_type": "code",
   "execution_count": null,
   "id": "ae374af3",
   "metadata": {},
   "outputs": [],
   "source": []
  },
  {
   "cell_type": "code",
   "execution_count": null,
   "id": "b4c33fff",
   "metadata": {},
   "outputs": [],
   "source": []
  }
 ],
 "metadata": {
  "kernelspec": {
   "display_name": "Python 3 (ipykernel)",
   "language": "python",
   "name": "python3"
  },
  "language_info": {
   "codemirror_mode": {
    "name": "ipython",
    "version": 3
   },
   "file_extension": ".py",
   "mimetype": "text/x-python",
   "name": "python",
   "nbconvert_exporter": "python",
   "pygments_lexer": "ipython3",
   "version": "3.9.7"
  }
 },
 "nbformat": 4,
 "nbformat_minor": 5
}
